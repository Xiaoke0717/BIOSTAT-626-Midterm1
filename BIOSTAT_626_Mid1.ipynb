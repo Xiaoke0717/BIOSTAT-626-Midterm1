{
 "cells": [
  {
   "cell_type": "markdown",
   "id": "f282545c",
   "metadata": {},
   "source": [
    "## Import Module"
   ]
  },
  {
   "cell_type": "code",
   "execution_count": 5,
   "id": "f31fc5ec",
   "metadata": {},
   "outputs": [],
   "source": [
    "import pandas as pd\n",
    "# Helpful for showing indexing information\n",
    "pd.set_option('display.max_colwidth', 150)\n",
    "\n",
    "import math\n",
    "import matplotlib.pyplot as plt\n",
    "import seaborn as sns\n",
    "from sklearn.decomposition import PCA\n",
    "import numpy as np\n",
    "from sklearn.metrics import mean_absolute_error, r2_score, classification_report\n",
    "from sklearn.model_selection import KFold\n",
    "from sklearn.tree import DecisionTreeRegressor, DecisionTreeClassifier\n",
    "from sklearn.naive_bayes import GaussianNB\n",
    "from sklearn.linear_model import LinearRegression, LassoCV, RidgeCV, ElasticNetCV \n",
    "from sklearn.model_selection import GridSearchCV\n",
    "from sklearn.model_selection import train_test_split\n",
    "from sklearn.preprocessing import StandardScaler \n",
    "from sklearn.neighbors import KNeighborsClassifier\n",
    "from sklearn.svm import SVC\n",
    "from sklearn.ensemble import BaggingClassifier\n",
    "from sklearn.neural_network import MLPClassifier"
   ]
  },
  {
   "cell_type": "markdown",
   "id": "3487b549",
   "metadata": {},
   "source": [
    "## Binary Classification\n",
    "Build a binary classifier to classify the activity of each time window into static (0) and dynamic (1)."
   ]
  },
  {
   "cell_type": "markdown",
   "id": "14490954",
   "metadata": {},
   "source": [
    "### Step 1: Load and Enlabel Data"
   ]
  },
  {
   "cell_type": "code",
   "execution_count": 6,
   "id": "78c353bb",
   "metadata": {},
   "outputs": [
    {
     "name": "stderr",
     "output_type": "stream",
     "text": [
      "/var/folders/pv/kn0hk63x0c16cjm_kvl_wd880000gn/T/ipykernel_69755/591241069.py:1: ParserWarning: Falling back to the 'python' engine because the 'c' engine does not support regex separators (separators > 1 char and different from '\\s+' are interpreted as regex); you can avoid this warning by specifying engine='python'.\n",
      "  df = pd.read_csv(\"/Users/ke/Desktop/UMICH/23 Winter/BIOSTAT 626/Midterm 1/training_data.txt\", sep = \" |    |\\t\")\n"
     ]
    },
    {
     "data": {
      "text/html": [
       "<div>\n",
       "<style scoped>\n",
       "    .dataframe tbody tr th:only-of-type {\n",
       "        vertical-align: middle;\n",
       "    }\n",
       "\n",
       "    .dataframe tbody tr th {\n",
       "        vertical-align: top;\n",
       "    }\n",
       "\n",
       "    .dataframe thead th {\n",
       "        text-align: right;\n",
       "    }\n",
       "</style>\n",
       "<table border=\"1\" class=\"dataframe\">\n",
       "  <thead>\n",
       "    <tr style=\"text-align: right;\">\n",
       "      <th></th>\n",
       "      <th>subject</th>\n",
       "      <th>activity</th>\n",
       "      <th>F1</th>\n",
       "      <th>F2</th>\n",
       "      <th>F3</th>\n",
       "      <th>F4</th>\n",
       "      <th>F5</th>\n",
       "      <th>F6</th>\n",
       "      <th>F7</th>\n",
       "      <th>F8</th>\n",
       "      <th>...</th>\n",
       "      <th>F552</th>\n",
       "      <th>F553</th>\n",
       "      <th>F554</th>\n",
       "      <th>F555</th>\n",
       "      <th>F556</th>\n",
       "      <th>F557</th>\n",
       "      <th>F558</th>\n",
       "      <th>F559</th>\n",
       "      <th>F560</th>\n",
       "      <th>F561</th>\n",
       "    </tr>\n",
       "  </thead>\n",
       "  <tbody>\n",
       "    <tr>\n",
       "      <th>0</th>\n",
       "      <td>1</td>\n",
       "      <td>5</td>\n",
       "      <td>0.043580</td>\n",
       "      <td>-0.005970</td>\n",
       "      <td>-0.035054</td>\n",
       "      <td>-0.995381</td>\n",
       "      <td>-0.988366</td>\n",
       "      <td>-0.937382</td>\n",
       "      <td>-0.995007</td>\n",
       "      <td>-0.988816</td>\n",
       "      <td>...</td>\n",
       "      <td>-0.012236</td>\n",
       "      <td>-0.314848</td>\n",
       "      <td>-0.713308</td>\n",
       "      <td>-0.112754</td>\n",
       "      <td>0.030400</td>\n",
       "      <td>-0.464761</td>\n",
       "      <td>-0.018446</td>\n",
       "      <td>-0.841559</td>\n",
       "      <td>0.179913</td>\n",
       "      <td>-0.051718</td>\n",
       "    </tr>\n",
       "    <tr>\n",
       "      <th>1</th>\n",
       "      <td>1</td>\n",
       "      <td>5</td>\n",
       "      <td>0.039480</td>\n",
       "      <td>-0.002131</td>\n",
       "      <td>-0.029067</td>\n",
       "      <td>-0.998348</td>\n",
       "      <td>-0.982945</td>\n",
       "      <td>-0.971273</td>\n",
       "      <td>-0.998702</td>\n",
       "      <td>-0.983315</td>\n",
       "      <td>...</td>\n",
       "      <td>0.202804</td>\n",
       "      <td>-0.603199</td>\n",
       "      <td>-0.860677</td>\n",
       "      <td>0.053477</td>\n",
       "      <td>-0.007435</td>\n",
       "      <td>-0.732626</td>\n",
       "      <td>0.703511</td>\n",
       "      <td>-0.845092</td>\n",
       "      <td>0.180261</td>\n",
       "      <td>-0.047436</td>\n",
       "    </tr>\n",
       "    <tr>\n",
       "      <th>2</th>\n",
       "      <td>1</td>\n",
       "      <td>5</td>\n",
       "      <td>0.039978</td>\n",
       "      <td>-0.005153</td>\n",
       "      <td>-0.022651</td>\n",
       "      <td>-0.995482</td>\n",
       "      <td>-0.977314</td>\n",
       "      <td>-0.984760</td>\n",
       "      <td>-0.996415</td>\n",
       "      <td>-0.975835</td>\n",
       "      <td>...</td>\n",
       "      <td>0.440079</td>\n",
       "      <td>-0.404427</td>\n",
       "      <td>-0.761847</td>\n",
       "      <td>-0.118559</td>\n",
       "      <td>0.177899</td>\n",
       "      <td>0.100699</td>\n",
       "      <td>0.808529</td>\n",
       "      <td>-0.849230</td>\n",
       "      <td>0.180610</td>\n",
       "      <td>-0.042271</td>\n",
       "    </tr>\n",
       "    <tr>\n",
       "      <th>3</th>\n",
       "      <td>1</td>\n",
       "      <td>5</td>\n",
       "      <td>0.039785</td>\n",
       "      <td>-0.011809</td>\n",
       "      <td>-0.028916</td>\n",
       "      <td>-0.996194</td>\n",
       "      <td>-0.988569</td>\n",
       "      <td>-0.993256</td>\n",
       "      <td>-0.996994</td>\n",
       "      <td>-0.988526</td>\n",
       "      <td>...</td>\n",
       "      <td>0.430891</td>\n",
       "      <td>-0.138373</td>\n",
       "      <td>-0.491604</td>\n",
       "      <td>-0.036788</td>\n",
       "      <td>-0.012892</td>\n",
       "      <td>0.640011</td>\n",
       "      <td>-0.485366</td>\n",
       "      <td>-0.848947</td>\n",
       "      <td>0.181907</td>\n",
       "      <td>-0.040826</td>\n",
       "    </tr>\n",
       "    <tr>\n",
       "      <th>4</th>\n",
       "      <td>1</td>\n",
       "      <td>5</td>\n",
       "      <td>0.038758</td>\n",
       "      <td>-0.002289</td>\n",
       "      <td>-0.023863</td>\n",
       "      <td>-0.998241</td>\n",
       "      <td>-0.986774</td>\n",
       "      <td>-0.993115</td>\n",
       "      <td>-0.998216</td>\n",
       "      <td>-0.986479</td>\n",
       "      <td>...</td>\n",
       "      <td>0.137735</td>\n",
       "      <td>-0.366214</td>\n",
       "      <td>-0.702490</td>\n",
       "      <td>0.123320</td>\n",
       "      <td>0.122542</td>\n",
       "      <td>0.693578</td>\n",
       "      <td>-0.615971</td>\n",
       "      <td>-0.848164</td>\n",
       "      <td>0.185124</td>\n",
       "      <td>-0.037080</td>\n",
       "    </tr>\n",
       "  </tbody>\n",
       "</table>\n",
       "<p>5 rows × 563 columns</p>\n",
       "</div>"
      ],
      "text/plain": [
       "   subject  activity        F1        F2        F3        F4        F5  \\\n",
       "0        1         5  0.043580 -0.005970 -0.035054 -0.995381 -0.988366   \n",
       "1        1         5  0.039480 -0.002131 -0.029067 -0.998348 -0.982945   \n",
       "2        1         5  0.039978 -0.005153 -0.022651 -0.995482 -0.977314   \n",
       "3        1         5  0.039785 -0.011809 -0.028916 -0.996194 -0.988569   \n",
       "4        1         5  0.038758 -0.002289 -0.023863 -0.998241 -0.986774   \n",
       "\n",
       "         F6        F7        F8  ...      F552      F553      F554      F555  \\\n",
       "0 -0.937382 -0.995007 -0.988816  ... -0.012236 -0.314848 -0.713308 -0.112754   \n",
       "1 -0.971273 -0.998702 -0.983315  ...  0.202804 -0.603199 -0.860677  0.053477   \n",
       "2 -0.984760 -0.996415 -0.975835  ...  0.440079 -0.404427 -0.761847 -0.118559   \n",
       "3 -0.993256 -0.996994 -0.988526  ...  0.430891 -0.138373 -0.491604 -0.036788   \n",
       "4 -0.993115 -0.998216 -0.986479  ...  0.137735 -0.366214 -0.702490  0.123320   \n",
       "\n",
       "       F556      F557      F558      F559      F560      F561  \n",
       "0  0.030400 -0.464761 -0.018446 -0.841559  0.179913 -0.051718  \n",
       "1 -0.007435 -0.732626  0.703511 -0.845092  0.180261 -0.047436  \n",
       "2  0.177899  0.100699  0.808529 -0.849230  0.180610 -0.042271  \n",
       "3 -0.012892  0.640011 -0.485366 -0.848947  0.181907 -0.040826  \n",
       "4  0.122542  0.693578 -0.615971 -0.848164  0.185124 -0.037080  \n",
       "\n",
       "[5 rows x 563 columns]"
      ]
     },
     "execution_count": 6,
     "metadata": {},
     "output_type": "execute_result"
    }
   ],
   "source": [
    "df = pd.read_csv(\"/Users/ke/Desktop/UMICH/23 Winter/BIOSTAT 626/Midterm 1/training_data.txt\", sep = \" |    |\\t\")\n",
    "df.head(5)"
   ]
  },
  {
   "cell_type": "code",
   "execution_count": 7,
   "id": "a9d70e49",
   "metadata": {},
   "outputs": [
    {
     "name": "stdout",
     "output_type": "stream",
     "text": [
      "static count:  4481\n",
      "dynamic count:  3286\n"
     ]
    }
   ],
   "source": [
    "label = pd.DataFrame(columns = [\"target\"])\n",
    "label['target'] = df['subject']\n",
    "for i in range(len(df)):\n",
    "    if(df['activity'][i] >= 4):\n",
    "        label['target'][i] = 0\n",
    "    else:\n",
    "        label['target'][i] = 1\n"
   ]
  },
  {
   "cell_type": "markdown",
   "id": "77a571f1",
   "metadata": {},
   "source": [
    "### Step 2: Distribution of Data"
   ]
  },
  {
   "cell_type": "code",
   "execution_count": 14,
   "id": "d0d6c173",
   "metadata": {},
   "outputs": [
    {
     "name": "stdout",
     "output_type": "stream",
     "text": [
      "static count:  4481\n",
      "dynamic count:  3286\n"
     ]
    }
   ],
   "source": [
    "# Check the distribution of target variable \n",
    "print(\"static count: \", list(label['target']).count(0))\n",
    "print(\"dynamic count: \",list(label['target']).count(1))"
   ]
  },
  {
   "cell_type": "markdown",
   "id": "c6a63ce2",
   "metadata": {},
   "source": [
    "We can see the distribution of binary target reponse is almost balanced."
   ]
  },
  {
   "cell_type": "code",
   "execution_count": 13,
   "id": "b84415ca",
   "metadata": {},
   "outputs": [
    {
     "data": {
      "image/png": "[encoded data removed]",
      "text/plain": [
       "<Figure size 432x288 with 1 Axes>"
      ]
     },
     "metadata": {
      "needs_background": "light"
     },
     "output_type": "display_data"
    }
   ],
   "source": [
    "column = df.columns\n",
    "for i in range(2, len(column)):\n",
    "    sns.kdeplot(df[column[i]])\n",
    "    plt.xlabel(\"Value of features\")"
   ]
  },
  {
   "cell_type": "markdown",
   "id": "1f13dd82",
   "metadata": {},
   "source": [
    "Because the data have been processed, it can be seen that the distributions of almost all features are normal. Basically, the peak is centered on the values of -1, 0, and 1, and there is almost no skewness, so for the time being, the feature variables are not revised."
   ]
  },
  {
   "cell_type": "markdown",
   "id": "21b3059c",
   "metadata": {},
   "source": [
    "### Step 3: Standardized, Split and PCA Data"
   ]
  },
  {
   "cell_type": "code",
   "execution_count": 15,
   "id": "084eaf11",
   "metadata": {},
   "outputs": [],
   "source": [
    "# Make Data Copy\n",
    "data = df.copy()\n",
    "# Since \"activity\" is target reponse and \"subject\" is only the number of subject, I chose to drop these features.\n",
    "data.drop(['subject', 'activity'], axis = 1, inplace = True)\n",
    "# Standarlize the Data\n",
    "ss_x = StandardScaler()\n",
    "ss_x.fit_transform(data)\n",
    "x_std = ss_x.transform(data)\n",
    "# I chose to divide data into train(60%) and test data(40%).\n",
    "X_train, X_test, x_train1, x_test1, Y_train, Y_test = train_test_split(data, x_std, label, test_size = 0.4, random_state = 4)\n",
    "x_train, x_test, y_train, y_test = train_test_split(data, label, test_size = 0.4, random_state = 17)"
   ]
  },
  {
   "cell_type": "code",
   "execution_count": 16,
   "id": "01982346",
   "metadata": {},
   "outputs": [
    {
     "name": "stdout",
     "output_type": "stream",
     "text": [
      "0.9905434097276852\n"
     ]
    },
    {
     "data": {
      "text/plain": [
       "Text(0, 0.5, 'Accumulate explained variance ratio')"
      ]
     },
     "execution_count": 16,
     "metadata": {},
     "output_type": "execute_result"
    },
    {
     "data": {
      "image/png": "[encoded data removed]",
      "text/plain": [
       "<Figure size 432x288 with 1 Axes>"
      ]
     },
     "metadata": {
      "needs_background": "light"
     },
     "output_type": "display_data"
    }
   ],
   "source": [
    "# PCA(Accumulate explained variance ratio > 99%)\n",
    "pca = PCA(n_components = 185)\n",
    "# pca.fit(x_std.T)\n",
    "V = pca.fit_transform(x_std)\n",
    "print(pca.explained_variance_ratio_.sum())\n",
    "vx_train, vx_test, vy_train, vy_test = train_test_split(V, label, test_size = 0.4, random_state = 17)\n",
    "plt.plot(np.cumsum(pca.explained_variance_ratio_))\n",
    "plt.title(\"PCA components accumulate explained variance ratio\")\n",
    "plt.xlabel(\"Components\")\n",
    "plt.ylabel(\"Accumulate explained variance ratio\")"
   ]
  },
  {
   "cell_type": "markdown",
   "id": "e478ecbe",
   "metadata": {},
   "source": [
    "### Step 4: Model selection (training data evaluation)"
   ]
  },
  {
   "cell_type": "markdown",
   "id": "e854535f",
   "metadata": {},
   "source": [
    "#### 1. Baseline algorith: K-Neighbors Classification"
   ]
  },
  {
   "cell_type": "markdown",
   "id": "b6ba16f6",
   "metadata": {},
   "source": [
    "##### (1) Original Data"
   ]
  },
  {
   "cell_type": "code",
   "execution_count": 23,
   "id": "f8b1fd99",
   "metadata": {},
   "outputs": [
    {
     "name": "stdout",
     "output_type": "stream",
     "text": [
      "Start training knn\n",
      "Trainig done\n"
     ]
    },
    {
     "name": "stderr",
     "output_type": "stream",
     "text": [
      "/Users/ke/opt/anaconda3/lib/python3.9/site-packages/sklearn/neighbors/_classification.py:198: DataConversionWarning: A column-vector y was passed when a 1d array was expected. Please change the shape of y to (n_samples,), for example using ravel().\n",
      "  return self._fit(X, y)\n"
     ]
    },
    {
     "name": "stdout",
     "output_type": "stream",
     "text": [
      "Prediction done\n",
      "The classification report for knn:\n",
      "              precision    recall  f1-score   support\n",
      "\n",
      "           0       1.00      1.00      1.00      1796\n",
      "           1       1.00      1.00      1.00      1311\n",
      "\n",
      "    accuracy                           1.00      3107\n",
      "   macro avg       1.00      1.00      1.00      3107\n",
      "weighted avg       1.00      1.00      1.00      3107\n",
      "\n"
     ]
    }
   ],
   "source": [
    "print(\"Start training knn\")\n",
    "knn = KNeighborsClassifier().fit(x_train, y_train)\n",
    "print(\"Trainig done\")\n",
    "answer_knn = knn.predict(x_test)\n",
    "print(\"Prediction done\")\n",
    "print(\"The classification report for knn:\")\n",
    "print(classification_report(vy_test, answer_knn))"
   ]
  },
  {
   "cell_type": "markdown",
   "id": "e53f1b07",
   "metadata": {},
   "source": [
    "##### (2) PCA Data"
   ]
  },
  {
   "cell_type": "code",
   "execution_count": 24,
   "id": "89119284",
   "metadata": {},
   "outputs": [
    {
     "name": "stdout",
     "output_type": "stream",
     "text": [
      "Start training knn\n",
      "Trainig done\n"
     ]
    },
    {
     "name": "stderr",
     "output_type": "stream",
     "text": [
      "/Users/ke/opt/anaconda3/lib/python3.9/site-packages/sklearn/neighbors/_classification.py:198: DataConversionWarning: A column-vector y was passed when a 1d array was expected. Please change the shape of y to (n_samples,), for example using ravel().\n",
      "  return self._fit(X, y)\n"
     ]
    },
    {
     "name": "stdout",
     "output_type": "stream",
     "text": [
      "Prediction done\n",
      "The classification report for knn:\n",
      "              precision    recall  f1-score   support\n",
      "\n",
      "           0       1.00      0.99      1.00      1796\n",
      "           1       0.99      1.00      1.00      1311\n",
      "\n",
      "    accuracy                           1.00      3107\n",
      "   macro avg       1.00      1.00      1.00      3107\n",
      "weighted avg       1.00      1.00      1.00      3107\n",
      "\n"
     ]
    }
   ],
   "source": [
    "print(\"Start training knn\")\n",
    "knn = KNeighborsClassifier().fit(vx_train, vy_train)\n",
    "print(\"Trainig done\")\n",
    "answer_knn = knn.predict(vx_test)\n",
    "print(\"Prediction done\")\n",
    "print(\"The classification report for knn:\")\n",
    "print(classification_report(vy_test, answer_knn))"
   ]
  },
  {
   "cell_type": "markdown",
   "id": "578d3f44",
   "metadata": {},
   "source": [
    "#### 2. Decision Tree Classification"
   ]
  },
  {
   "cell_type": "markdown",
   "id": "ac7e4f56",
   "metadata": {},
   "source": [
    "##### (1) Original Data"
   ]
  },
  {
   "cell_type": "code",
   "execution_count": 25,
   "id": "28729754",
   "metadata": {},
   "outputs": [
    {
     "name": "stdout",
     "output_type": "stream",
     "text": [
      "Start training dt\n",
      "Trainig done\n",
      "Prediction done\n",
      "The classification report for dt:\n",
      "              precision    recall  f1-score   support\n",
      "\n",
      "           0       1.00      1.00      1.00      1796\n",
      "           1       1.00      1.00      1.00      1311\n",
      "\n",
      "    accuracy                           1.00      3107\n",
      "   macro avg       1.00      1.00      1.00      3107\n",
      "weighted avg       1.00      1.00      1.00      3107\n",
      "\n"
     ]
    }
   ],
   "source": [
    "print(\"Start training dt\")\n",
    "dt = DecisionTreeClassifier().fit(x_train, y_train)\n",
    "print(\"Trainig done\")\n",
    "answer_dt = dt.predict(x_test)\n",
    "print(\"Prediction done\")\n",
    "print(\"The classification report for dt:\")\n",
    "print(classification_report(y_test, answer_dt))"
   ]
  },
  {
   "cell_type": "markdown",
   "id": "2cb99bba",
   "metadata": {},
   "source": [
    "##### (2) PCA Data"
   ]
  },
  {
   "cell_type": "code",
   "execution_count": 26,
   "id": "ecc5afa1",
   "metadata": {},
   "outputs": [
    {
     "name": "stdout",
     "output_type": "stream",
     "text": [
      "Start training dt\n",
      "Trainig done\n",
      "Prediction done\n",
      "The classification report for dt:\n",
      "              precision    recall  f1-score   support\n",
      "\n",
      "           0       0.99      0.99      0.99      1796\n",
      "           1       0.99      0.99      0.99      1311\n",
      "\n",
      "    accuracy                           0.99      3107\n",
      "   macro avg       0.99      0.99      0.99      3107\n",
      "weighted avg       0.99      0.99      0.99      3107\n",
      "\n"
     ]
    }
   ],
   "source": [
    "print(\"Start training dt\")\n",
    "dt = DecisionTreeClassifier().fit(vx_train, vy_train)\n",
    "print(\"Trainig done\")\n",
    "answer_dt = dt.predict(vx_test)\n",
    "print(\"Prediction done\")\n",
    "print(\"The classification report for dt:\")\n",
    "print(classification_report(vy_test, answer_dt))"
   ]
  },
  {
   "cell_type": "markdown",
   "id": "1de2df40",
   "metadata": {},
   "source": [
    "#### 3. Gaussian Naive Bayes Classification"
   ]
  },
  {
   "cell_type": "markdown",
   "id": "983ea78b",
   "metadata": {},
   "source": [
    "##### (1) Original Data"
   ]
  },
  {
   "cell_type": "code",
   "execution_count": 28,
   "id": "5dee5318",
   "metadata": {},
   "outputs": [
    {
     "name": "stdout",
     "output_type": "stream",
     "text": [
      "Start training gnb\n",
      "Trainig done\n",
      "Prediction done\n",
      "The classification report for gnb:\n",
      "              precision    recall  f1-score   support\n",
      "\n",
      "           0       1.00      0.99      0.99      1796\n",
      "           1       0.98      0.99      0.99      1311\n",
      "\n",
      "    accuracy                           0.99      3107\n",
      "   macro avg       0.99      0.99      0.99      3107\n",
      "weighted avg       0.99      0.99      0.99      3107\n",
      "\n"
     ]
    },
    {
     "name": "stderr",
     "output_type": "stream",
     "text": [
      "/Users/ke/opt/anaconda3/lib/python3.9/site-packages/sklearn/utils/validation.py:993: DataConversionWarning: A column-vector y was passed when a 1d array was expected. Please change the shape of y to (n_samples, ), for example using ravel().\n",
      "  y = column_or_1d(y, warn=True)\n"
     ]
    }
   ],
   "source": [
    "print(\"Start training gnb\")\n",
    "gnb = GaussianNB().fit(x_train, y_train)\n",
    "print(\"Trainig done\")\n",
    "answer_gnb = gnb.predict(x_test)\n",
    "print(\"Prediction done\")\n",
    "print(\"The classification report for gnb:\")\n",
    "print(classification_report(y_test, answer_gnb))"
   ]
  },
  {
   "cell_type": "markdown",
   "id": "02b339d6",
   "metadata": {},
   "source": [
    "##### (2) PCA Data"
   ]
  },
  {
   "cell_type": "code",
   "execution_count": 29,
   "id": "4bc179a8",
   "metadata": {},
   "outputs": [
    {
     "name": "stdout",
     "output_type": "stream",
     "text": [
      "Start training gnb\n",
      "Trainig done\n",
      "Prediction done\n",
      "The classification report for gnb:\n",
      "              precision    recall  f1-score   support\n",
      "\n",
      "           0       0.80      0.88      0.84      1796\n",
      "           1       0.81      0.69      0.75      1311\n",
      "\n",
      "    accuracy                           0.80      3107\n",
      "   macro avg       0.80      0.79      0.79      3107\n",
      "weighted avg       0.80      0.80      0.80      3107\n",
      "\n"
     ]
    },
    {
     "name": "stderr",
     "output_type": "stream",
     "text": [
      "/Users/ke/opt/anaconda3/lib/python3.9/site-packages/sklearn/utils/validation.py:993: DataConversionWarning: A column-vector y was passed when a 1d array was expected. Please change the shape of y to (n_samples, ), for example using ravel().\n",
      "  y = column_or_1d(y, warn=True)\n"
     ]
    }
   ],
   "source": [
    "print(\"Start training gnb\")\n",
    "gnb = GaussianNB().fit(vx_train, vy_train)\n",
    "print(\"Trainig done\")\n",
    "answer_gnb = gnb.predict(vx_test)\n",
    "print(\"Prediction done\")\n",
    "print(\"The classification report for gnb:\")\n",
    "print(classification_report(vy_test, answer_gnb))"
   ]
  },
  {
   "cell_type": "markdown",
   "id": "31e622ef",
   "metadata": {},
   "source": [
    "#### 4. Support Vector Classification"
   ]
  },
  {
   "cell_type": "markdown",
   "id": "cacba983",
   "metadata": {},
   "source": [
    "##### (1) Original Data"
   ]
  },
  {
   "cell_type": "code",
   "execution_count": 30,
   "id": "0879d34a",
   "metadata": {},
   "outputs": [
    {
     "name": "stdout",
     "output_type": "stream",
     "text": [
      "Start training svc\n"
     ]
    },
    {
     "name": "stderr",
     "output_type": "stream",
     "text": [
      "/Users/ke/opt/anaconda3/lib/python3.9/site-packages/sklearn/utils/validation.py:993: DataConversionWarning: A column-vector y was passed when a 1d array was expected. Please change the shape of y to (n_samples, ), for example using ravel().\n",
      "  y = column_or_1d(y, warn=True)\n"
     ]
    },
    {
     "name": "stdout",
     "output_type": "stream",
     "text": [
      "Trainig done\n",
      "Prediction done\n",
      "The classification report for svc:\n",
      "              precision    recall  f1-score   support\n",
      "\n",
      "           0       1.00      1.00      1.00      1796\n",
      "           1       1.00      1.00      1.00      1311\n",
      "\n",
      "    accuracy                           1.00      3107\n",
      "   macro avg       1.00      1.00      1.00      3107\n",
      "weighted avg       1.00      1.00      1.00      3107\n",
      "\n"
     ]
    }
   ],
   "source": [
    "print(\"Start training svc\")\n",
    "svc = SVC().fit(x_train, y_train)\n",
    "print(\"Trainig done\")\n",
    "answer_svc = svc.predict(x_test)\n",
    "print(\"Prediction done\")\n",
    "print(\"The classification report for svc:\")\n",
    "print(classification_report(y_test, answer_svc))"
   ]
  },
  {
   "cell_type": "markdown",
   "id": "11b3d6d4",
   "metadata": {},
   "source": [
    "##### (2) PCA Data"
   ]
  },
  {
   "cell_type": "code",
   "execution_count": 31,
   "id": "1525cb3e",
   "metadata": {},
   "outputs": [
    {
     "name": "stdout",
     "output_type": "stream",
     "text": [
      "Start training svc\n",
      "Trainig done\n"
     ]
    },
    {
     "name": "stderr",
     "output_type": "stream",
     "text": [
      "/Users/ke/opt/anaconda3/lib/python3.9/site-packages/sklearn/utils/validation.py:993: DataConversionWarning: A column-vector y was passed when a 1d array was expected. Please change the shape of y to (n_samples, ), for example using ravel().\n",
      "  y = column_or_1d(y, warn=True)\n"
     ]
    },
    {
     "name": "stdout",
     "output_type": "stream",
     "text": [
      "Prediction done\n",
      "The classification report for svc:\n",
      "              precision    recall  f1-score   support\n",
      "\n",
      "           0       1.00      1.00      1.00      1796\n",
      "           1       1.00      1.00      1.00      1311\n",
      "\n",
      "    accuracy                           1.00      3107\n",
      "   macro avg       1.00      1.00      1.00      3107\n",
      "weighted avg       1.00      1.00      1.00      3107\n",
      "\n"
     ]
    }
   ],
   "source": [
    "print(\"Start training svc\")\n",
    "svc = SVC().fit(vx_train, vy_train)\n",
    "print(\"Trainig done\")\n",
    "answer_svc = svc.predict(vx_test)\n",
    "print(\"Prediction done\")\n",
    "print(\"The classification report for svc:\")\n",
    "print(classification_report(vy_test, answer_svc))"
   ]
  },
  {
   "cell_type": "markdown",
   "id": "0928c712",
   "metadata": {},
   "source": [
    "#### 5. Bagging Classification"
   ]
  },
  {
   "cell_type": "markdown",
   "id": "ca6913ca",
   "metadata": {},
   "source": [
    "##### (1) Original Data"
   ]
  },
  {
   "cell_type": "code",
   "execution_count": 32,
   "id": "205bae87",
   "metadata": {},
   "outputs": [
    {
     "name": "stdout",
     "output_type": "stream",
     "text": [
      "Start training bagging\n"
     ]
    },
    {
     "name": "stderr",
     "output_type": "stream",
     "text": [
      "/Users/ke/opt/anaconda3/lib/python3.9/site-packages/sklearn/ensemble/_bagging.py:719: DataConversionWarning: A column-vector y was passed when a 1d array was expected. Please change the shape of y to (n_samples, ), for example using ravel().\n",
      "  y = column_or_1d(y, warn=True)\n"
     ]
    },
    {
     "name": "stdout",
     "output_type": "stream",
     "text": [
      "Trainig done\n",
      "Prediction done\n",
      "The classification report for bagging:\n",
      "              precision    recall  f1-score   support\n",
      "\n",
      "           0       1.00      1.00      1.00      1796\n",
      "           1       1.00      0.99      1.00      1311\n",
      "\n",
      "    accuracy                           1.00      3107\n",
      "   macro avg       1.00      1.00      1.00      3107\n",
      "weighted avg       1.00      1.00      1.00      3107\n",
      "\n"
     ]
    }
   ],
   "source": [
    "print(\"Start training bagging\")\n",
    "bc = BaggingClassifier().fit(x_train, y_train)\n",
    "print(\"Trainig done\")\n",
    "answer_bc = bc.predict(x_test)\n",
    "print(\"Prediction done\")\n",
    "print(\"The classification report for bagging:\")\n",
    "print(classification_report(y_test, answer_bc))"
   ]
  },
  {
   "cell_type": "markdown",
   "id": "0107f529",
   "metadata": {},
   "source": [
    "##### (2) PCA Data"
   ]
  },
  {
   "cell_type": "code",
   "execution_count": 33,
   "id": "5a1f2c1f",
   "metadata": {},
   "outputs": [
    {
     "name": "stdout",
     "output_type": "stream",
     "text": [
      "Start training bagging\n"
     ]
    },
    {
     "name": "stderr",
     "output_type": "stream",
     "text": [
      "/Users/ke/opt/anaconda3/lib/python3.9/site-packages/sklearn/ensemble/_bagging.py:719: DataConversionWarning: A column-vector y was passed when a 1d array was expected. Please change the shape of y to (n_samples, ), for example using ravel().\n",
      "  y = column_or_1d(y, warn=True)\n"
     ]
    },
    {
     "name": "stdout",
     "output_type": "stream",
     "text": [
      "Trainig done\n",
      "Prediction done\n",
      "The classification report for bagging:\n",
      "              precision    recall  f1-score   support\n",
      "\n",
      "           0       1.00      1.00      1.00      1796\n",
      "           1       0.99      1.00      1.00      1311\n",
      "\n",
      "    accuracy                           1.00      3107\n",
      "   macro avg       1.00      1.00      1.00      3107\n",
      "weighted avg       1.00      1.00      1.00      3107\n",
      "\n"
     ]
    }
   ],
   "source": [
    "print(\"Start training bagging\")\n",
    "bc = BaggingClassifier().fit(vx_train, vy_train)\n",
    "print(\"Trainig done\")\n",
    "answer_bc = bc.predict(vx_test)\n",
    "print(\"Prediction done\")\n",
    "print(\"The classification report for bagging:\")\n",
    "print(classification_report(vy_test, answer_bc))"
   ]
  },
  {
   "cell_type": "markdown",
   "id": "e68c321d",
   "metadata": {},
   "source": [
    "#### 6. MLP Classification"
   ]
  },
  {
   "cell_type": "markdown",
   "id": "64b7f38b",
   "metadata": {},
   "source": [
    "##### (1) Original Data"
   ]
  },
  {
   "cell_type": "code",
   "execution_count": 34,
   "id": "9c535ca9",
   "metadata": {},
   "outputs": [
    {
     "name": "stdout",
     "output_type": "stream",
     "text": [
      "Start training neural network\n"
     ]
    },
    {
     "name": "stderr",
     "output_type": "stream",
     "text": [
      "/Users/ke/opt/anaconda3/lib/python3.9/site-packages/sklearn/neural_network/_multilayer_perceptron.py:1109: DataConversionWarning: A column-vector y was passed when a 1d array was expected. Please change the shape of y to (n_samples, ), for example using ravel().\n",
      "  y = column_or_1d(y, warn=True)\n"
     ]
    },
    {
     "name": "stdout",
     "output_type": "stream",
     "text": [
      "Trainig done\n",
      "Prediction done\n",
      "The classification report for neural network:\n",
      "              precision    recall  f1-score   support\n",
      "\n",
      "           0       1.00      1.00      1.00      1796\n",
      "           1       1.00      1.00      1.00      1311\n",
      "\n",
      "    accuracy                           1.00      3107\n",
      "   macro avg       1.00      1.00      1.00      3107\n",
      "weighted avg       1.00      1.00      1.00      3107\n",
      "\n"
     ]
    }
   ],
   "source": [
    "from sklearn.neural_network import MLPClassifier\n",
    "print(\"Start training neural network\")\n",
    "mlp = MLPClassifier().fit(x_train, y_train)\n",
    "print(\"Trainig done\")\n",
    "answer_mlp = mlp.predict(x_test)\n",
    "print(\"Prediction done\")\n",
    "print(\"The classification report for neural network:\")\n",
    "print(classification_report(y_test, answer_mlp))"
   ]
  },
  {
   "cell_type": "markdown",
   "id": "c1fb47c3",
   "metadata": {},
   "source": [
    "##### (2) PCA Data"
   ]
  },
  {
   "cell_type": "code",
   "execution_count": 35,
   "id": "fdbdc055",
   "metadata": {},
   "outputs": [
    {
     "name": "stdout",
     "output_type": "stream",
     "text": [
      "Start training neural network\n"
     ]
    },
    {
     "name": "stderr",
     "output_type": "stream",
     "text": [
      "/Users/ke/opt/anaconda3/lib/python3.9/site-packages/sklearn/neural_network/_multilayer_perceptron.py:1109: DataConversionWarning: A column-vector y was passed when a 1d array was expected. Please change the shape of y to (n_samples, ), for example using ravel().\n",
      "  y = column_or_1d(y, warn=True)\n"
     ]
    },
    {
     "name": "stdout",
     "output_type": "stream",
     "text": [
      "Trainig done\n",
      "Prediction done\n",
      "The classification report for neural network:\n",
      "              precision    recall  f1-score   support\n",
      "\n",
      "           0       1.00      1.00      1.00      1796\n",
      "           1       1.00      1.00      1.00      1311\n",
      "\n",
      "    accuracy                           1.00      3107\n",
      "   macro avg       1.00      1.00      1.00      3107\n",
      "weighted avg       1.00      1.00      1.00      3107\n",
      "\n"
     ]
    }
   ],
   "source": [
    "from sklearn.neural_network import MLPClassifier\n",
    "print(\"Start training neural network\")\n",
    "mlp = MLPClassifier().fit(vx_train, vy_train)\n",
    "print(\"Trainig done\")\n",
    "answer_mlp = mlp.predict(vx_test)\n",
    "print(\"Prediction done\")\n",
    "print(\"The classification report for neural network:\")\n",
    "print(classification_report(vy_test, answer_mlp))"
   ]
  },
  {
   "cell_type": "markdown",
   "id": "eedea235",
   "metadata": {},
   "source": [
    "### Step 5: Load Test Data and PCA"
   ]
  },
  {
   "cell_type": "code",
   "execution_count": 36,
   "id": "3d028a2b",
   "metadata": {},
   "outputs": [
    {
     "name": "stderr",
     "output_type": "stream",
     "text": [
      "/var/folders/pv/kn0hk63x0c16cjm_kvl_wd880000gn/T/ipykernel_69755/2146471453.py:2: ParserWarning: Falling back to the 'python' engine because the 'c' engine does not support regex separators (separators > 1 char and different from '\\s+' are interpreted as regex); you can avoid this warning by specifying engine='python'.\n",
      "  testdata = pd.read_csv(\"/Users/ke/Desktop/UMICH/23 Winter/BIOSTAT 626/Midterm 1/test_data.txt\", sep = \" |    |\\t\")\n"
     ]
    }
   ],
   "source": [
    "# Load Test data\n",
    "testdata = pd.read_csv(\"/Users/ke/Desktop/UMICH/23 Winter/BIOSTAT 626/Midterm 1/test_data.txt\", sep = \" |    |\\t\")\n",
    "test_data = testdata.copy()\n",
    "test_data.drop(['subject'], axis = 1, inplace = True)\n",
    "#Standardized data\n",
    "ss_x = StandardScaler()\n",
    "ss_x.fit_transform(test_data)\n",
    "x_std = ss_x.transform(test_data)"
   ]
  },
  {
   "cell_type": "code",
   "execution_count": 38,
   "id": "86119b1b",
   "metadata": {},
   "outputs": [
    {
     "name": "stdout",
     "output_type": "stream",
     "text": [
      "0.9909309810528458\n"
     ]
    },
    {
     "data": {
      "text/plain": [
       "Text(0, 0.5, 'Accumulate explained variance ratio')"
      ]
     },
     "execution_count": 38,
     "metadata": {},
     "output_type": "execute_result"
    },
    {
     "data": {
      "image/png": "[encoded data removed]",
      "text/plain": [
       "<Figure size 432x288 with 1 Axes>"
      ]
     },
     "metadata": {
      "needs_background": "light"
     },
     "output_type": "display_data"
    }
   ],
   "source": [
    "# PCA \n",
    "pca = PCA(n_components = 185)\n",
    "# pca.fit(x_std.T)\n",
    "V_test = pca.fit_transform(x_std)\n",
    "print(pca.explained_variance_ratio_.sum())\n",
    "plt.plot(np.cumsum(pca.explained_variance_ratio_))\n",
    "plt.title(\"PCA components accumulate explained variance ratio\")\n",
    "plt.xlabel(\"Components\")\n",
    "plt.ylabel(\"Accumulate explained variance ratio\")"
   ]
  },
  {
   "cell_type": "markdown",
   "id": "72cc3a00",
   "metadata": {},
   "source": [
    "### Step 6: Obtain the results"
   ]
  },
  {
   "cell_type": "code",
   "execution_count": 39,
   "id": "bd4bcadd",
   "metadata": {},
   "outputs": [
    {
     "name": "stdout",
     "output_type": "stream",
     "text": [
      "Start training svc\n"
     ]
    },
    {
     "name": "stderr",
     "output_type": "stream",
     "text": [
      "/Users/ke/opt/anaconda3/lib/python3.9/site-packages/sklearn/utils/validation.py:993: DataConversionWarning: A column-vector y was passed when a 1d array was expected. Please change the shape of y to (n_samples, ), for example using ravel().\n",
      "  y = column_or_1d(y, warn=True)\n"
     ]
    },
    {
     "name": "stdout",
     "output_type": "stream",
     "text": [
      "Trainig done\n",
      "Prediction done\n"
     ]
    }
   ],
   "source": [
    "print(\"Start training svc\")\n",
    "svc = SVC().fit(data, label)\n",
    "print(\"Trainig done\")\n",
    "answer_svc = svc.predict(test_data)\n",
    "print(\"Prediction done\")\n",
    "new = pd.DataFrame(answer_svc.T)\n",
    "# new.to_excel(\"/Users/ke/Desktop/UMICH/23 Winter/BIOSTAT 626/Midterm 1/svc_result.xlsx\")"
   ]
  },
  {
   "cell_type": "markdown",
   "id": "ca03e7fe",
   "metadata": {},
   "source": [
    "## Multi-class Classification\n",
    "Build a refined multi-class classifier to classify walking (1), walking_upstairs (2), walking_downstairs (3), sitting (4), standing (5), lying (6), and static postural transition (7)"
   ]
  },
  {
   "cell_type": "markdown",
   "id": "02a415fd",
   "metadata": {},
   "source": [
    "### Step 1: Enlabel Data"
   ]
  },
  {
   "cell_type": "code",
   "execution_count": 46,
   "id": "5b919f68",
   "metadata": {},
   "outputs": [],
   "source": [
    "label = pd.DataFrame(columns = [\"target\"])\n",
    "label['target'] = df['subject']\n",
    "for i in range(len(df)):\n",
    "    if(df['activity'][i] < 7):\n",
    "        label['target'][i] = df['activity'][i]\n",
    "    else:\n",
    "        label['target'][i] = 7"
   ]
  },
  {
   "cell_type": "markdown",
   "id": "54704e2d",
   "metadata": {},
   "source": [
    "### Step 2: Observe Data"
   ]
  },
  {
   "cell_type": "code",
   "execution_count": 89,
   "id": "72224fed",
   "metadata": {},
   "outputs": [
    {
     "name": "stdout",
     "output_type": "stream",
     "text": [
      "Walking 1:\n",
      "Count:  1226\n",
      "Percentage:  0.16 \n",
      "\n",
      "Walking_upstairs 2: \n",
      "Count:  1073\n",
      "Percentage:  0.14 \n",
      "\n",
      "Walking_downstairs 3:\n",
      "Count:  987\n",
      "Percentage:  0.13 \n",
      "\n",
      "Sitting 4:\n",
      "Count:  1293\n",
      "Percentage:  0.17 \n",
      "\n",
      "Standing 5:\n",
      "Count:  1423\n",
      "Percentage:  0.18 \n",
      "\n",
      "Lying 6:\n",
      "Count:  1413\n",
      "Percentage:  0.18 \n",
      "\n",
      "Static postural transition 7:\n",
      "Count:  352\n",
      "Percentage:  0.05\n"
     ]
    }
   ],
   "source": [
    "print(\"Walking 1:\")\n",
    "print(\"Count: \", list(label['target']).count(1))\n",
    "print(\"Percentage: \",round(list(label['target']).count(1)/7767, 2), \"\\n\")\n",
    "print(\"Walking_upstairs 2: \")\n",
    "print(\"Count: \",list(label['target']).count(2))\n",
    "print(\"Percentage: \",round(list(label['target']).count(2)/7767, 2), \"\\n\")\n",
    "print(\"Walking_downstairs 3:\")\n",
    "print(\"Count: \",list(label['target']).count(3))\n",
    "print(\"Percentage: \",round(list(label['target']).count(3)/7767, 2), \"\\n\")\n",
    "print(\"Sitting 4:\")\n",
    "print(\"Count: \",list(label['target']).count(4))\n",
    "print(\"Percentage: \",round(list(label['target']).count(4)/7767, 2), \"\\n\")\n",
    "print(\"Standing 5:\")\n",
    "print(\"Count: \",list(label['target']).count(5))\n",
    "print(\"Percentage: \",round(list(label['target']).count(5)/7767, 2), \"\\n\")\n",
    "print(\"Lying 6:\")\n",
    "print(\"Count: \",list(label['target']).count(6))\n",
    "print(\"Percentage: \",round(list(label['target']).count(6)/7767, 2), \"\\n\")\n",
    "print(\"Static postural transition 7:\")\n",
    "print(\"Count: \",list(label['target']).count(7))\n",
    "print(\"Percentage: \",round(list(label['target']).count(7)/7767, 2))"
   ]
  },
  {
   "cell_type": "code",
   "execution_count": 90,
   "id": "a481f5b0",
   "metadata": {},
   "outputs": [
    {
     "data": {
      "text/plain": [
       "[<matplotlib.lines.Line2D at 0x176efc460>]"
      ]
     },
     "execution_count": 90,
     "metadata": {},
     "output_type": "execute_result"
    },
    {
     "data": {
      "image/png": "[encoded data removed]",
      "text/plain": [
       "<Figure size 864x432 with 4 Axes>"
      ]
     },
     "metadata": {
      "needs_background": "light"
     },
     "output_type": "display_data"
    }
   ],
   "source": [
    "fig = plt.figure(figsize = (12,6))\n",
    "plt.subplot(221)\n",
    "subject1 = label[0:368]\n",
    "plt.plot(subject1['target'])\n",
    "plt.subplot(222)\n",
    "subject2 = label[369:727]\n",
    "plt.plot(subject2['target'])\n",
    "plt.subplot(223)\n",
    "subject3 = label[728:1051]\n",
    "plt.plot(subject3['target'])\n",
    "plt.subplot(224)\n",
    "subject4 = label[1052:1392]\n",
    "plt.plot(subject4['target'])"
   ]
  },
  {
   "cell_type": "markdown",
   "id": "271a2b83",
   "metadata": {},
   "source": [
    "Observe the trend of the label by 4 subjects.\n",
    "We can see that label=7 means that there is a transition in the action, and generally, after label=7 the label will change. And we can see that label will generally remain stable for a period of time (i.e., except for label = 7, there is basically no rapid change of label.)"
   ]
  },
  {
   "cell_type": "markdown",
   "id": "3bbfae8a",
   "metadata": {},
   "source": [
    "### Step 3: Standardized, Split and PCA Data"
   ]
  },
  {
   "cell_type": "code",
   "execution_count": 91,
   "id": "5a33edb9",
   "metadata": {},
   "outputs": [],
   "source": [
    "data = df.copy()\n",
    "data.drop(['subject', 'activity'], axis = 1, inplace = True)\n",
    "ss_x = StandardScaler()\n",
    "ss_x.fit_transform(data)\n",
    "x_std = ss_x.transform(data)\n",
    "X_train, X_test, x_train1, x_test1, Y_train, Y_test = train_test_split(data, x_std, label, test_size = 0.4, random_state = 4)\n",
    "x_train, x_test, y_train, y_test = train_test_split(data, label, test_size = 0.4, random_state = 1)"
   ]
  },
  {
   "cell_type": "code",
   "execution_count": 93,
   "id": "61043189",
   "metadata": {},
   "outputs": [
    {
     "name": "stdout",
     "output_type": "stream",
     "text": [
      "0.9905347255980246\n"
     ]
    },
    {
     "data": {
      "text/plain": [
       "Text(0, 0.5, 'Accumulate explained variance ratio')"
      ]
     },
     "execution_count": 93,
     "metadata": {},
     "output_type": "execute_result"
    },
    {
     "data": {
      "image/png": "[encoded data removed]",
      "text/plain": [
       "<Figure size 432x288 with 1 Axes>"
      ]
     },
     "metadata": {
      "needs_background": "light"
     },
     "output_type": "display_data"
    }
   ],
   "source": [
    "pca = PCA(n_components = 185)\n",
    "V = pca.fit_transform(x_std)\n",
    "print(pca.explained_variance_ratio_.sum())\n",
    "vx_train, vx_test, vy_train, vy_test = train_test_split(V, label, test_size = 0.4, random_state = 1)\n",
    "plt.plot(np.cumsum(pca.explained_variance_ratio_))\n",
    "plt.title(\"PCA components accumulate explained variance ratio\")\n",
    "plt.xlabel(\"Components\")\n",
    "plt.ylabel(\"Accumulate explained variance ratio\")"
   ]
  },
  {
   "cell_type": "markdown",
   "id": "97677d38",
   "metadata": {},
   "source": [
    "### Step 4: Model Selection"
   ]
  },
  {
   "cell_type": "markdown",
   "id": "aee7cf53",
   "metadata": {},
   "source": [
    "#### 1. K-Neighbors Classification"
   ]
  },
  {
   "cell_type": "markdown",
   "id": "f992ee22",
   "metadata": {},
   "source": [
    "##### (1) Original Data"
   ]
  },
  {
   "cell_type": "code",
   "execution_count": 94,
   "id": "129c5124",
   "metadata": {},
   "outputs": [
    {
     "name": "stdout",
     "output_type": "stream",
     "text": [
      "Start training knn\n"
     ]
    },
    {
     "name": "stderr",
     "output_type": "stream",
     "text": [
      "/Users/ke/opt/anaconda3/lib/python3.9/site-packages/sklearn/neighbors/_classification.py:198: DataConversionWarning: A column-vector y was passed when a 1d array was expected. Please change the shape of y to (n_samples,), for example using ravel().\n",
      "  return self._fit(X, y)\n"
     ]
    },
    {
     "name": "stdout",
     "output_type": "stream",
     "text": [
      "Prediction done\n",
      "The classification report for knn:\n",
      "              precision    recall  f1-score   support\n",
      "\n",
      "           1       0.99      1.00      1.00       500\n",
      "           2       0.98      1.00      0.99       407\n",
      "           3       1.00      0.98      0.99       383\n",
      "           4       0.91      0.86      0.89       533\n",
      "           5       0.89      0.92      0.90       577\n",
      "           6       0.99      1.00      1.00       566\n",
      "           7       0.98      0.94      0.96       141\n",
      "\n",
      "    accuracy                           0.96      3107\n",
      "   macro avg       0.96      0.96      0.96      3107\n",
      "weighted avg       0.96      0.96      0.96      3107\n",
      "\n"
     ]
    }
   ],
   "source": [
    "print(\"Start training knn\")\n",
    "knn = KNeighborsClassifier().fit(x_train, y_train)\n",
    "answer_knn = knn.predict(x_test)\n",
    "print(\"Prediction done\")\n",
    "print(\"The classification report for knn:\")\n",
    "print(classification_report(y_test, answer_knn))"
   ]
  },
  {
   "cell_type": "markdown",
   "id": "e5768986",
   "metadata": {},
   "source": [
    "##### (2) PCA Data"
   ]
  },
  {
   "cell_type": "code",
   "execution_count": 95,
   "id": "de6f4fc5",
   "metadata": {},
   "outputs": [
    {
     "name": "stdout",
     "output_type": "stream",
     "text": [
      "Start training knn\n"
     ]
    },
    {
     "name": "stderr",
     "output_type": "stream",
     "text": [
      "/Users/ke/opt/anaconda3/lib/python3.9/site-packages/sklearn/neighbors/_classification.py:198: DataConversionWarning: A column-vector y was passed when a 1d array was expected. Please change the shape of y to (n_samples,), for example using ravel().\n",
      "  return self._fit(X, y)\n"
     ]
    },
    {
     "name": "stdout",
     "output_type": "stream",
     "text": [
      "Prediction done\n",
      "The classification report for knn:\n",
      "              precision    recall  f1-score   support\n",
      "\n",
      "           1       0.98      0.99      0.99       500\n",
      "           2       0.96      0.99      0.98       407\n",
      "           3       0.99      0.98      0.99       383\n",
      "           4       0.94      0.86      0.90       533\n",
      "           5       0.88      0.95      0.92       577\n",
      "           6       0.99      0.99      0.99       566\n",
      "           7       0.99      0.90      0.94       141\n",
      "\n",
      "    accuracy                           0.96      3107\n",
      "   macro avg       0.96      0.95      0.96      3107\n",
      "weighted avg       0.96      0.96      0.96      3107\n",
      "\n"
     ]
    }
   ],
   "source": [
    "print(\"Start training knn\")\n",
    "knn = KNeighborsClassifier().fit(vx_train, vy_train)\n",
    "answer_knn = knn.predict(vx_test)\n",
    "print(\"Prediction done\")\n",
    "print(\"The classification report for knn:\")\n",
    "print(classification_report(vy_test, answer_knn))"
   ]
  },
  {
   "cell_type": "markdown",
   "id": "d36517b4",
   "metadata": {},
   "source": [
    "#### 2. Decision Tree Classification"
   ]
  },
  {
   "cell_type": "markdown",
   "id": "6cd938df",
   "metadata": {},
   "source": [
    "##### (1) Original Data"
   ]
  },
  {
   "cell_type": "code",
   "execution_count": 96,
   "id": "dccb8dc8",
   "metadata": {},
   "outputs": [
    {
     "name": "stdout",
     "output_type": "stream",
     "text": [
      "Start training dt\n",
      "Trainig done\n",
      "Prediction done\n",
      "The classification report for dt:\n",
      "              precision    recall  f1-score   support\n",
      "\n",
      "           1       0.94      0.95      0.94       500\n",
      "           2       0.93      0.89      0.91       407\n",
      "           3       0.91      0.92      0.91       383\n",
      "           4       0.92      0.92      0.92       533\n",
      "           5       0.93      0.93      0.93       577\n",
      "           6       0.99      0.99      0.99       566\n",
      "           7       0.95      0.96      0.95       141\n",
      "\n",
      "    accuracy                           0.94      3107\n",
      "   macro avg       0.94      0.94      0.94      3107\n",
      "weighted avg       0.94      0.94      0.94      3107\n",
      "\n"
     ]
    }
   ],
   "source": [
    "print(\"Start training dt\")\n",
    "dt = DecisionTreeClassifier().fit(x_train, y_train)\n",
    "print(\"Trainig done\")\n",
    "answer_dt = dt.predict(x_test)\n",
    "print(\"Prediction done\")\n",
    "print(\"The classification report for dt:\")\n",
    "print(classification_report(y_test, answer_dt))"
   ]
  },
  {
   "cell_type": "markdown",
   "id": "908b4486",
   "metadata": {},
   "source": [
    "##### (2) PCA Data"
   ]
  },
  {
   "cell_type": "code",
   "execution_count": 97,
   "id": "01888a4c",
   "metadata": {},
   "outputs": [
    {
     "name": "stdout",
     "output_type": "stream",
     "text": [
      "Start training dt\n",
      "Trainig done\n",
      "Prediction done\n",
      "The classification report for dt:\n",
      "              precision    recall  f1-score   support\n",
      "\n",
      "           1       0.84      0.84      0.84       500\n",
      "           2       0.76      0.73      0.74       407\n",
      "           3       0.77      0.80      0.79       383\n",
      "           4       0.71      0.71      0.71       533\n",
      "           5       0.76      0.76      0.76       577\n",
      "           6       0.94      0.95      0.95       566\n",
      "           7       0.93      0.88      0.90       141\n",
      "\n",
      "    accuracy                           0.81      3107\n",
      "   macro avg       0.82      0.81      0.81      3107\n",
      "weighted avg       0.81      0.81      0.81      3107\n",
      "\n"
     ]
    }
   ],
   "source": [
    "print(\"Start training dt\")\n",
    "dt = DecisionTreeClassifier().fit(vx_train, vy_train)\n",
    "print(\"Trainig done\")\n",
    "answer_dt = dt.predict(vx_test)\n",
    "print(\"Prediction done\")\n",
    "print(\"The classification report for dt:\")\n",
    "print(classification_report(vy_test, answer_dt))"
   ]
  },
  {
   "cell_type": "markdown",
   "id": "effb7513",
   "metadata": {},
   "source": [
    "#### 3. Gussian Naive Bayes Classification"
   ]
  },
  {
   "cell_type": "markdown",
   "id": "59eebcb7",
   "metadata": {},
   "source": [
    "##### (1) Original Data"
   ]
  },
  {
   "cell_type": "code",
   "execution_count": 98,
   "id": "ca39251b",
   "metadata": {},
   "outputs": [
    {
     "name": "stdout",
     "output_type": "stream",
     "text": [
      "Start training gnb\n",
      "Trainig done\n",
      "Prediction done\n",
      "The classification report for gnb:\n",
      "              precision    recall  f1-score   support\n",
      "\n",
      "           1       0.95      0.70      0.80       500\n",
      "           2       0.67      0.85      0.75       407\n",
      "           3       0.78      0.80      0.79       383\n",
      "           4       0.50      0.84      0.63       533\n",
      "           5       0.83      0.55      0.66       577\n",
      "           6       0.98      0.59      0.74       566\n",
      "           7       0.65      0.98      0.78       141\n",
      "\n",
      "    accuracy                           0.72      3107\n",
      "   macro avg       0.77      0.76      0.74      3107\n",
      "weighted avg       0.79      0.72      0.73      3107\n",
      "\n"
     ]
    },
    {
     "name": "stderr",
     "output_type": "stream",
     "text": [
      "/Users/ke/opt/anaconda3/lib/python3.9/site-packages/sklearn/utils/validation.py:993: DataConversionWarning: A column-vector y was passed when a 1d array was expected. Please change the shape of y to (n_samples, ), for example using ravel().\n",
      "  y = column_or_1d(y, warn=True)\n"
     ]
    }
   ],
   "source": [
    "print(\"Start training gnb\")\n",
    "gnb = GaussianNB().fit(x_train, y_train)\n",
    "print(\"Trainig done\")\n",
    "answer_gnb = gnb.predict(x_test)\n",
    "print(\"Prediction done\")\n",
    "print(\"The classification report for gnb:\")\n",
    "print(classification_report(y_test, answer_gnb))"
   ]
  },
  {
   "cell_type": "markdown",
   "id": "acb0f8a7",
   "metadata": {},
   "source": [
    "##### (2) PCA Data"
   ]
  },
  {
   "cell_type": "code",
   "execution_count": 99,
   "id": "b1e24261",
   "metadata": {},
   "outputs": [
    {
     "name": "stdout",
     "output_type": "stream",
     "text": [
      "Start training gnb\n",
      "Trainig done\n",
      "Prediction done\n",
      "The classification report for gnb:\n",
      "              precision    recall  f1-score   support\n",
      "\n",
      "           1       0.75      0.64      0.69       500\n",
      "           2       0.59      0.86      0.70       407\n",
      "           3       0.60      0.55      0.58       383\n",
      "           4       0.93      0.78      0.85       533\n",
      "           5       0.87      0.88      0.87       577\n",
      "           6       0.99      0.93      0.96       566\n",
      "           7       0.75      0.87      0.80       141\n",
      "\n",
      "    accuracy                           0.79      3107\n",
      "   macro avg       0.78      0.79      0.78      3107\n",
      "weighted avg       0.81      0.79      0.79      3107\n",
      "\n"
     ]
    },
    {
     "name": "stderr",
     "output_type": "stream",
     "text": [
      "/Users/ke/opt/anaconda3/lib/python3.9/site-packages/sklearn/utils/validation.py:993: DataConversionWarning: A column-vector y was passed when a 1d array was expected. Please change the shape of y to (n_samples, ), for example using ravel().\n",
      "  y = column_or_1d(y, warn=True)\n"
     ]
    }
   ],
   "source": [
    "print(\"Start training gnb\")\n",
    "gnb = GaussianNB().fit(vx_train, vy_train)\n",
    "print(\"Trainig done\")\n",
    "answer_gnb = gnb.predict(vx_test)\n",
    "print(\"Prediction done\")\n",
    "print(\"The classification report for gnb:\")\n",
    "print(classification_report(vy_test, answer_gnb))"
   ]
  },
  {
   "cell_type": "markdown",
   "id": "459edf19",
   "metadata": {},
   "source": [
    "#### 4. Support Vector Classification"
   ]
  },
  {
   "cell_type": "markdown",
   "id": "4c648c9f",
   "metadata": {},
   "source": [
    "##### (1) Original Data"
   ]
  },
  {
   "cell_type": "code",
   "execution_count": 101,
   "id": "d865e7e3",
   "metadata": {},
   "outputs": [
    {
     "name": "stdout",
     "output_type": "stream",
     "text": [
      "Start training svc\n"
     ]
    },
    {
     "name": "stderr",
     "output_type": "stream",
     "text": [
      "/Users/ke/opt/anaconda3/lib/python3.9/site-packages/sklearn/utils/validation.py:993: DataConversionWarning: A column-vector y was passed when a 1d array was expected. Please change the shape of y to (n_samples, ), for example using ravel().\n",
      "  y = column_or_1d(y, warn=True)\n"
     ]
    },
    {
     "name": "stdout",
     "output_type": "stream",
     "text": [
      "Trainig done\n",
      "Prediction done\n",
      "The classification report for svc:\n",
      "              precision    recall  f1-score   support\n",
      "\n",
      "           1       1.00      1.00      1.00       500\n",
      "           2       0.99      1.00      0.99       407\n",
      "           3       1.00      1.00      1.00       383\n",
      "           4       0.95      0.89      0.92       533\n",
      "           5       0.91      0.95      0.93       577\n",
      "           6       1.00      1.00      1.00       566\n",
      "           7       0.98      0.97      0.98       141\n",
      "\n",
      "    accuracy                           0.97      3107\n",
      "   macro avg       0.97      0.97      0.97      3107\n",
      "weighted avg       0.97      0.97      0.97      3107\n",
      "\n"
     ]
    }
   ],
   "source": [
    "print(\"Start training svc\")\n",
    "svc = SVC().fit(x_train, y_train)\n",
    "print(\"Trainig done\")\n",
    "answer_svc = svc.predict(x_test)\n",
    "print(\"Prediction done\")\n",
    "print(\"The classification report for svc:\")\n",
    "print(classification_report(y_test, answer_svc))"
   ]
  },
  {
   "cell_type": "markdown",
   "id": "2688a1b8",
   "metadata": {},
   "source": [
    "##### (2) PCA Data"
   ]
  },
  {
   "cell_type": "code",
   "execution_count": 102,
   "id": "068db8c4",
   "metadata": {},
   "outputs": [
    {
     "name": "stdout",
     "output_type": "stream",
     "text": [
      "Start training svc\n"
     ]
    },
    {
     "name": "stderr",
     "output_type": "stream",
     "text": [
      "/Users/ke/opt/anaconda3/lib/python3.9/site-packages/sklearn/utils/validation.py:993: DataConversionWarning: A column-vector y was passed when a 1d array was expected. Please change the shape of y to (n_samples, ), for example using ravel().\n",
      "  y = column_or_1d(y, warn=True)\n"
     ]
    },
    {
     "name": "stdout",
     "output_type": "stream",
     "text": [
      "Trainig done\n",
      "Prediction done\n",
      "The classification report for svc:\n",
      "              precision    recall  f1-score   support\n",
      "\n",
      "           1       1.00      1.00      1.00       500\n",
      "           2       1.00      1.00      1.00       407\n",
      "           3       0.99      1.00      0.99       383\n",
      "           4       0.94      0.91      0.92       533\n",
      "           5       0.93      0.94      0.93       577\n",
      "           6       1.00      1.00      1.00       566\n",
      "           7       0.97      0.99      0.98       141\n",
      "\n",
      "    accuracy                           0.97      3107\n",
      "   macro avg       0.97      0.97      0.97      3107\n",
      "weighted avg       0.97      0.97      0.97      3107\n",
      "\n"
     ]
    }
   ],
   "source": [
    "print(\"Start training svc\")\n",
    "svc = SVC().fit(vx_train, vy_train)\n",
    "print(\"Trainig done\")\n",
    "answer_svc = svc.predict(vx_test)\n",
    "print(\"Prediction done\")\n",
    "print(\"The classification report for svc:\")\n",
    "print(classification_report(vy_test, answer_svc))"
   ]
  },
  {
   "cell_type": "markdown",
   "id": "f6c9038d",
   "metadata": {},
   "source": [
    "#### 5. Bagging Classification"
   ]
  },
  {
   "cell_type": "markdown",
   "id": "053de56f",
   "metadata": {},
   "source": [
    "##### (1) Original Data"
   ]
  },
  {
   "cell_type": "code",
   "execution_count": 103,
   "id": "1a782a60",
   "metadata": {},
   "outputs": [
    {
     "name": "stdout",
     "output_type": "stream",
     "text": [
      "Start training bagging\n"
     ]
    },
    {
     "name": "stderr",
     "output_type": "stream",
     "text": [
      "/Users/ke/opt/anaconda3/lib/python3.9/site-packages/sklearn/ensemble/_bagging.py:719: DataConversionWarning: A column-vector y was passed when a 1d array was expected. Please change the shape of y to (n_samples, ), for example using ravel().\n",
      "  y = column_or_1d(y, warn=True)\n"
     ]
    },
    {
     "name": "stdout",
     "output_type": "stream",
     "text": [
      "Trainig done\n",
      "Prediction done\n",
      "The classification report for bagging:\n",
      "              precision    recall  f1-score   support\n",
      "\n",
      "           1       0.99      0.96      0.97       500\n",
      "           2       0.95      0.96      0.96       407\n",
      "           3       0.95      0.97      0.96       383\n",
      "           4       0.94      0.93      0.93       533\n",
      "           5       0.94      0.94      0.94       577\n",
      "           6       0.99      1.00      1.00       566\n",
      "           7       0.94      0.96      0.95       141\n",
      "\n",
      "    accuracy                           0.96      3107\n",
      "   macro avg       0.96      0.96      0.96      3107\n",
      "weighted avg       0.96      0.96      0.96      3107\n",
      "\n"
     ]
    }
   ],
   "source": [
    "print(\"Start training bagging\")\n",
    "bc = BaggingClassifier().fit(x_train, y_train)\n",
    "print(\"Trainig done\")\n",
    "answer_bc = bc.predict(x_test)\n",
    "print(\"Prediction done\")\n",
    "print(\"The classification report for bagging:\")\n",
    "print(classification_report(y_test, answer_bc))"
   ]
  },
  {
   "cell_type": "markdown",
   "id": "0a655b45",
   "metadata": {},
   "source": [
    "##### (2) PCA Data"
   ]
  },
  {
   "cell_type": "code",
   "execution_count": 104,
   "id": "9a89da5d",
   "metadata": {},
   "outputs": [
    {
     "name": "stdout",
     "output_type": "stream",
     "text": [
      "Start training bagging\n"
     ]
    },
    {
     "name": "stderr",
     "output_type": "stream",
     "text": [
      "/Users/ke/opt/anaconda3/lib/python3.9/site-packages/sklearn/ensemble/_bagging.py:719: DataConversionWarning: A column-vector y was passed when a 1d array was expected. Please change the shape of y to (n_samples, ), for example using ravel().\n",
      "  y = column_or_1d(y, warn=True)\n"
     ]
    },
    {
     "name": "stdout",
     "output_type": "stream",
     "text": [
      "Trainig done\n",
      "Prediction done\n",
      "The classification report for bagging:\n",
      "              precision    recall  f1-score   support\n",
      "\n",
      "           1       0.88      0.95      0.91       500\n",
      "           2       0.87      0.85      0.86       407\n",
      "           3       0.88      0.85      0.87       383\n",
      "           4       0.80      0.79      0.79       533\n",
      "           5       0.83      0.83      0.83       577\n",
      "           6       0.97      0.97      0.97       566\n",
      "           7       0.97      0.86      0.91       141\n",
      "\n",
      "    accuracy                           0.87      3107\n",
      "   macro avg       0.88      0.87      0.88      3107\n",
      "weighted avg       0.87      0.87      0.87      3107\n",
      "\n"
     ]
    }
   ],
   "source": [
    "print(\"Start training bagging\")\n",
    "bc = BaggingClassifier().fit(vx_train, vy_train)\n",
    "print(\"Trainig done\")\n",
    "answer_bc = bc.predict(vx_test)\n",
    "print(\"Prediction done\")\n",
    "print(\"The classification report for bagging:\")\n",
    "print(classification_report(vy_test, answer_bc))"
   ]
  },
  {
   "cell_type": "markdown",
   "id": "759cacb1",
   "metadata": {},
   "source": [
    "#### 6. MLP Classification"
   ]
  },
  {
   "cell_type": "markdown",
   "id": "2edff19a",
   "metadata": {},
   "source": [
    "##### (1) Original Data"
   ]
  },
  {
   "cell_type": "code",
   "execution_count": 105,
   "id": "f9ab7568",
   "metadata": {},
   "outputs": [
    {
     "name": "stdout",
     "output_type": "stream",
     "text": [
      "Start training neural network\n"
     ]
    },
    {
     "name": "stderr",
     "output_type": "stream",
     "text": [
      "/Users/ke/opt/anaconda3/lib/python3.9/site-packages/sklearn/neural_network/_multilayer_perceptron.py:1109: DataConversionWarning: A column-vector y was passed when a 1d array was expected. Please change the shape of y to (n_samples, ), for example using ravel().\n",
      "  y = column_or_1d(y, warn=True)\n"
     ]
    },
    {
     "name": "stdout",
     "output_type": "stream",
     "text": [
      "Trainig done\n",
      "Prediction done\n",
      "The classification report for neural network:\n",
      "              precision    recall  f1-score   support\n",
      "\n",
      "           1       1.00      1.00      1.00       500\n",
      "           2       0.99      1.00      1.00       407\n",
      "           3       1.00      0.99      1.00       383\n",
      "           4       0.95      0.95      0.95       533\n",
      "           5       0.96      0.96      0.96       577\n",
      "           6       0.99      1.00      1.00       566\n",
      "           7       0.99      0.94      0.96       141\n",
      "\n",
      "    accuracy                           0.98      3107\n",
      "   macro avg       0.98      0.98      0.98      3107\n",
      "weighted avg       0.98      0.98      0.98      3107\n",
      "\n"
     ]
    }
   ],
   "source": [
    "print(\"Start training neural network\")\n",
    "mlp = MLPClassifier().fit(x_train, y_train)\n",
    "print(\"Trainig done\")\n",
    "answer_mlp = mlp.predict(x_test)\n",
    "print(\"Prediction done\")\n",
    "print(\"The classification report for neural network:\")\n",
    "print(classification_report(y_test, answer_mlp))"
   ]
  },
  {
   "cell_type": "markdown",
   "id": "75bc2ca9",
   "metadata": {},
   "source": [
    "##### (2) PCA Data"
   ]
  },
  {
   "cell_type": "code",
   "execution_count": 106,
   "id": "eb533fdc",
   "metadata": {},
   "outputs": [
    {
     "name": "stdout",
     "output_type": "stream",
     "text": [
      "Start training neural network\n"
     ]
    },
    {
     "name": "stderr",
     "output_type": "stream",
     "text": [
      "/Users/ke/opt/anaconda3/lib/python3.9/site-packages/sklearn/neural_network/_multilayer_perceptron.py:1109: DataConversionWarning: A column-vector y was passed when a 1d array was expected. Please change the shape of y to (n_samples, ), for example using ravel().\n",
      "  y = column_or_1d(y, warn=True)\n"
     ]
    },
    {
     "name": "stdout",
     "output_type": "stream",
     "text": [
      "Trainig done\n",
      "Prediction done\n",
      "The classification report for neural network:\n",
      "              precision    recall  f1-score   support\n",
      "\n",
      "           1       1.00      1.00      1.00       500\n",
      "           2       0.99      1.00      0.99       407\n",
      "           3       1.00      0.99      0.99       383\n",
      "           4       0.94      0.95      0.94       533\n",
      "           5       0.95      0.95      0.95       577\n",
      "           6       0.99      1.00      0.99       566\n",
      "           7       0.99      0.94      0.96       141\n",
      "\n",
      "    accuracy                           0.98      3107\n",
      "   macro avg       0.98      0.97      0.98      3107\n",
      "weighted avg       0.98      0.98      0.98      3107\n",
      "\n"
     ]
    }
   ],
   "source": [
    "print(\"Start training neural network\")\n",
    "mlp = MLPClassifier().fit(vx_train, vy_train)\n",
    "print(\"Trainig done\")\n",
    "answer_mlp = mlp.predict(vx_test)\n",
    "print(\"Prediction done\")\n",
    "print(\"The classification report for neural network:\")\n",
    "print(classification_report(vy_test, answer_mlp))"
   ]
  },
  {
   "cell_type": "markdown",
   "id": "422c4ef0",
   "metadata": {},
   "source": [
    "### Step 5: Parameter Choose\n",
    "Using grid search to choose the parameter of svc model"
   ]
  },
  {
   "cell_type": "code",
   "execution_count": 107,
   "id": "fd2c83a7",
   "metadata": {
    "scrolled": true
   },
   "outputs": [
    {
     "name": "stdout",
     "output_type": "stream",
     "text": [
      "Fitting 5 folds for each of 25 candidates, totalling 125 fits\n"
     ]
    },
    {
     "name": "stderr",
     "output_type": "stream",
     "text": [
      "/Users/ke/opt/anaconda3/lib/python3.9/site-packages/sklearn/utils/validation.py:993: DataConversionWarning: A column-vector y was passed when a 1d array was expected. Please change the shape of y to (n_samples, ), for example using ravel().\n",
      "  y = column_or_1d(y, warn=True)\n",
      "/Users/ke/opt/anaconda3/lib/python3.9/site-packages/sklearn/utils/validation.py:993: DataConversionWarning: A column-vector y was passed when a 1d array was expected. Please change the shape of y to (n_samples, ), for example using ravel().\n",
      "  y = column_or_1d(y, warn=True)\n",
      "/Users/ke/opt/anaconda3/lib/python3.9/site-packages/sklearn/utils/validation.py:993: DataConversionWarning: A column-vector y was passed when a 1d array was expected. Please change the shape of y to (n_samples, ), for example using ravel().\n",
      "  y = column_or_1d(y, warn=True)\n",
      "/Users/ke/opt/anaconda3/lib/python3.9/site-packages/sklearn/utils/validation.py:993: DataConversionWarning: A column-vector y was passed when a 1d array was expected. Please change the shape of y to (n_samples, ), for example using ravel().\n",
      "  y = column_or_1d(y, warn=True)\n",
      "/Users/ke/opt/anaconda3/lib/python3.9/site-packages/sklearn/utils/validation.py:993: DataConversionWarning: A column-vector y was passed when a 1d array was expected. Please change the shape of y to (n_samples, ), for example using ravel().\n",
      "  y = column_or_1d(y, warn=True)\n",
      "/Users/ke/opt/anaconda3/lib/python3.9/site-packages/sklearn/utils/validation.py:993: DataConversionWarning: A column-vector y was passed when a 1d array was expected. Please change the shape of y to (n_samples, ), for example using ravel().\n",
      "  y = column_or_1d(y, warn=True)\n",
      "/Users/ke/opt/anaconda3/lib/python3.9/site-packages/sklearn/utils/validation.py:993: DataConversionWarning: A column-vector y was passed when a 1d array was expected. Please change the shape of y to (n_samples, ), for example using ravel().\n",
      "  y = column_or_1d(y, warn=True)\n",
      "/Users/ke/opt/anaconda3/lib/python3.9/site-packages/sklearn/utils/validation.py:993: DataConversionWarning: A column-vector y was passed when a 1d array was expected. Please change the shape of y to (n_samples, ), for example using ravel().\n",
      "  y = column_or_1d(y, warn=True)\n",
      "/Users/ke/opt/anaconda3/lib/python3.9/site-packages/sklearn/utils/validation.py:993: DataConversionWarning: A column-vector y was passed when a 1d array was expected. Please change the shape of y to (n_samples, ), for example using ravel().\n",
      "  y = column_or_1d(y, warn=True)\n",
      "/Users/ke/opt/anaconda3/lib/python3.9/site-packages/sklearn/utils/validation.py:993: DataConversionWarning: A column-vector y was passed when a 1d array was expected. Please change the shape of y to (n_samples, ), for example using ravel().\n",
      "  y = column_or_1d(y, warn=True)\n",
      "/Users/ke/opt/anaconda3/lib/python3.9/site-packages/sklearn/utils/validation.py:993: DataConversionWarning: A column-vector y was passed when a 1d array was expected. Please change the shape of y to (n_samples, ), for example using ravel().\n",
      "  y = column_or_1d(y, warn=True)\n",
      "/Users/ke/opt/anaconda3/lib/python3.9/site-packages/sklearn/utils/validation.py:993: DataConversionWarning: A column-vector y was passed when a 1d array was expected. Please change the shape of y to (n_samples, ), for example using ravel().\n",
      "  y = column_or_1d(y, warn=True)\n",
      "/Users/ke/opt/anaconda3/lib/python3.9/site-packages/sklearn/utils/validation.py:993: DataConversionWarning: A column-vector y was passed when a 1d array was expected. Please change the shape of y to (n_samples, ), for example using ravel().\n",
      "  y = column_or_1d(y, warn=True)\n",
      "/Users/ke/opt/anaconda3/lib/python3.9/site-packages/sklearn/utils/validation.py:993: DataConversionWarning: A column-vector y was passed when a 1d array was expected. Please change the shape of y to (n_samples, ), for example using ravel().\n",
      "  y = column_or_1d(y, warn=True)\n",
      "/Users/ke/opt/anaconda3/lib/python3.9/site-packages/sklearn/utils/validation.py:993: DataConversionWarning: A column-vector y was passed when a 1d array was expected. Please change the shape of y to (n_samples, ), for example using ravel().\n",
      "  y = column_or_1d(y, warn=True)\n",
      "/Users/ke/opt/anaconda3/lib/python3.9/site-packages/sklearn/utils/validation.py:993: DataConversionWarning: A column-vector y was passed when a 1d array was expected. Please change the shape of y to (n_samples, ), for example using ravel().\n",
      "  y = column_or_1d(y, warn=True)\n",
      "/Users/ke/opt/anaconda3/lib/python3.9/site-packages/sklearn/utils/validation.py:993: DataConversionWarning: A column-vector y was passed when a 1d array was expected. Please change the shape of y to (n_samples, ), for example using ravel().\n",
      "  y = column_or_1d(y, warn=True)\n",
      "/Users/ke/opt/anaconda3/lib/python3.9/site-packages/sklearn/utils/validation.py:993: DataConversionWarning: A column-vector y was passed when a 1d array was expected. Please change the shape of y to (n_samples, ), for example using ravel().\n",
      "  y = column_or_1d(y, warn=True)\n",
      "/Users/ke/opt/anaconda3/lib/python3.9/site-packages/sklearn/utils/validation.py:993: DataConversionWarning: A column-vector y was passed when a 1d array was expected. Please change the shape of y to (n_samples, ), for example using ravel().\n",
      "  y = column_or_1d(y, warn=True)\n",
      "/Users/ke/opt/anaconda3/lib/python3.9/site-packages/sklearn/utils/validation.py:993: DataConversionWarning: A column-vector y was passed when a 1d array was expected. Please change the shape of y to (n_samples, ), for example using ravel().\n",
      "  y = column_or_1d(y, warn=True)\n",
      "/Users/ke/opt/anaconda3/lib/python3.9/site-packages/sklearn/utils/validation.py:993: DataConversionWarning: A column-vector y was passed when a 1d array was expected. Please change the shape of y to (n_samples, ), for example using ravel().\n",
      "  y = column_or_1d(y, warn=True)\n",
      "/Users/ke/opt/anaconda3/lib/python3.9/site-packages/sklearn/utils/validation.py:993: DataConversionWarning: A column-vector y was passed when a 1d array was expected. Please change the shape of y to (n_samples, ), for example using ravel().\n",
      "  y = column_or_1d(y, warn=True)\n",
      "/Users/ke/opt/anaconda3/lib/python3.9/site-packages/sklearn/utils/validation.py:993: DataConversionWarning: A column-vector y was passed when a 1d array was expected. Please change the shape of y to (n_samples, ), for example using ravel().\n",
      "  y = column_or_1d(y, warn=True)\n",
      "/Users/ke/opt/anaconda3/lib/python3.9/site-packages/sklearn/utils/validation.py:993: DataConversionWarning: A column-vector y was passed when a 1d array was expected. Please change the shape of y to (n_samples, ), for example using ravel().\n",
      "  y = column_or_1d(y, warn=True)\n",
      "/Users/ke/opt/anaconda3/lib/python3.9/site-packages/sklearn/utils/validation.py:993: DataConversionWarning: A column-vector y was passed when a 1d array was expected. Please change the shape of y to (n_samples, ), for example using ravel().\n",
      "  y = column_or_1d(y, warn=True)\n",
      "/Users/ke/opt/anaconda3/lib/python3.9/site-packages/sklearn/utils/validation.py:993: DataConversionWarning: A column-vector y was passed when a 1d array was expected. Please change the shape of y to (n_samples, ), for example using ravel().\n",
      "  y = column_or_1d(y, warn=True)\n",
      "/Users/ke/opt/anaconda3/lib/python3.9/site-packages/sklearn/utils/validation.py:993: DataConversionWarning: A column-vector y was passed when a 1d array was expected. Please change the shape of y to (n_samples, ), for example using ravel().\n",
      "  y = column_or_1d(y, warn=True)\n",
      "/Users/ke/opt/anaconda3/lib/python3.9/site-packages/sklearn/utils/validation.py:993: DataConversionWarning: A column-vector y was passed when a 1d array was expected. Please change the shape of y to (n_samples, ), for example using ravel().\n",
      "  y = column_or_1d(y, warn=True)\n",
      "/Users/ke/opt/anaconda3/lib/python3.9/site-packages/sklearn/utils/validation.py:993: DataConversionWarning: A column-vector y was passed when a 1d array was expected. Please change the shape of y to (n_samples, ), for example using ravel().\n",
      "  y = column_or_1d(y, warn=True)\n",
      "/Users/ke/opt/anaconda3/lib/python3.9/site-packages/sklearn/utils/validation.py:993: DataConversionWarning: A column-vector y was passed when a 1d array was expected. Please change the shape of y to (n_samples, ), for example using ravel().\n",
      "  y = column_or_1d(y, warn=True)\n",
      "/Users/ke/opt/anaconda3/lib/python3.9/site-packages/sklearn/utils/validation.py:993: DataConversionWarning: A column-vector y was passed when a 1d array was expected. Please change the shape of y to (n_samples, ), for example using ravel().\n",
      "  y = column_or_1d(y, warn=True)\n"
     ]
    },
    {
     "name": "stderr",
     "output_type": "stream",
     "text": [
      "/Users/ke/opt/anaconda3/lib/python3.9/site-packages/sklearn/utils/validation.py:993: DataConversionWarning: A column-vector y was passed when a 1d array was expected. Please change the shape of y to (n_samples, ), for example using ravel().\n",
      "  y = column_or_1d(y, warn=True)\n",
      "/Users/ke/opt/anaconda3/lib/python3.9/site-packages/sklearn/utils/validation.py:993: DataConversionWarning: A column-vector y was passed when a 1d array was expected. Please change the shape of y to (n_samples, ), for example using ravel().\n",
      "  y = column_or_1d(y, warn=True)\n",
      "/Users/ke/opt/anaconda3/lib/python3.9/site-packages/sklearn/utils/validation.py:993: DataConversionWarning: A column-vector y was passed when a 1d array was expected. Please change the shape of y to (n_samples, ), for example using ravel().\n",
      "  y = column_or_1d(y, warn=True)\n",
      "/Users/ke/opt/anaconda3/lib/python3.9/site-packages/sklearn/utils/validation.py:993: DataConversionWarning: A column-vector y was passed when a 1d array was expected. Please change the shape of y to (n_samples, ), for example using ravel().\n",
      "  y = column_or_1d(y, warn=True)\n",
      "/Users/ke/opt/anaconda3/lib/python3.9/site-packages/sklearn/utils/validation.py:993: DataConversionWarning: A column-vector y was passed when a 1d array was expected. Please change the shape of y to (n_samples, ), for example using ravel().\n",
      "  y = column_or_1d(y, warn=True)\n",
      "/Users/ke/opt/anaconda3/lib/python3.9/site-packages/sklearn/utils/validation.py:993: DataConversionWarning: A column-vector y was passed when a 1d array was expected. Please change the shape of y to (n_samples, ), for example using ravel().\n",
      "  y = column_or_1d(y, warn=True)\n",
      "/Users/ke/opt/anaconda3/lib/python3.9/site-packages/sklearn/utils/validation.py:993: DataConversionWarning: A column-vector y was passed when a 1d array was expected. Please change the shape of y to (n_samples, ), for example using ravel().\n",
      "  y = column_or_1d(y, warn=True)\n",
      "/Users/ke/opt/anaconda3/lib/python3.9/site-packages/sklearn/utils/validation.py:993: DataConversionWarning: A column-vector y was passed when a 1d array was expected. Please change the shape of y to (n_samples, ), for example using ravel().\n",
      "  y = column_or_1d(y, warn=True)\n",
      "/Users/ke/opt/anaconda3/lib/python3.9/site-packages/sklearn/utils/validation.py:993: DataConversionWarning: A column-vector y was passed when a 1d array was expected. Please change the shape of y to (n_samples, ), for example using ravel().\n",
      "  y = column_or_1d(y, warn=True)\n",
      "/Users/ke/opt/anaconda3/lib/python3.9/site-packages/sklearn/utils/validation.py:993: DataConversionWarning: A column-vector y was passed when a 1d array was expected. Please change the shape of y to (n_samples, ), for example using ravel().\n",
      "  y = column_or_1d(y, warn=True)\n",
      "/Users/ke/opt/anaconda3/lib/python3.9/site-packages/sklearn/utils/validation.py:993: DataConversionWarning: A column-vector y was passed when a 1d array was expected. Please change the shape of y to (n_samples, ), for example using ravel().\n",
      "  y = column_or_1d(y, warn=True)\n",
      "/Users/ke/opt/anaconda3/lib/python3.9/site-packages/sklearn/utils/validation.py:993: DataConversionWarning: A column-vector y was passed when a 1d array was expected. Please change the shape of y to (n_samples, ), for example using ravel().\n",
      "  y = column_or_1d(y, warn=True)\n",
      "/Users/ke/opt/anaconda3/lib/python3.9/site-packages/sklearn/utils/validation.py:993: DataConversionWarning: A column-vector y was passed when a 1d array was expected. Please change the shape of y to (n_samples, ), for example using ravel().\n",
      "  y = column_or_1d(y, warn=True)\n",
      "/Users/ke/opt/anaconda3/lib/python3.9/site-packages/sklearn/utils/validation.py:993: DataConversionWarning: A column-vector y was passed when a 1d array was expected. Please change the shape of y to (n_samples, ), for example using ravel().\n",
      "  y = column_or_1d(y, warn=True)\n",
      "/Users/ke/opt/anaconda3/lib/python3.9/site-packages/sklearn/utils/validation.py:993: DataConversionWarning: A column-vector y was passed when a 1d array was expected. Please change the shape of y to (n_samples, ), for example using ravel().\n",
      "  y = column_or_1d(y, warn=True)\n",
      "/Users/ke/opt/anaconda3/lib/python3.9/site-packages/sklearn/utils/validation.py:993: DataConversionWarning: A column-vector y was passed when a 1d array was expected. Please change the shape of y to (n_samples, ), for example using ravel().\n",
      "  y = column_or_1d(y, warn=True)\n",
      "/Users/ke/opt/anaconda3/lib/python3.9/site-packages/sklearn/utils/validation.py:993: DataConversionWarning: A column-vector y was passed when a 1d array was expected. Please change the shape of y to (n_samples, ), for example using ravel().\n",
      "  y = column_or_1d(y, warn=True)\n",
      "/Users/ke/opt/anaconda3/lib/python3.9/site-packages/sklearn/utils/validation.py:993: DataConversionWarning: A column-vector y was passed when a 1d array was expected. Please change the shape of y to (n_samples, ), for example using ravel().\n",
      "  y = column_or_1d(y, warn=True)\n",
      "/Users/ke/opt/anaconda3/lib/python3.9/site-packages/sklearn/utils/validation.py:993: DataConversionWarning: A column-vector y was passed when a 1d array was expected. Please change the shape of y to (n_samples, ), for example using ravel().\n",
      "  y = column_or_1d(y, warn=True)\n",
      "/Users/ke/opt/anaconda3/lib/python3.9/site-packages/sklearn/utils/validation.py:993: DataConversionWarning: A column-vector y was passed when a 1d array was expected. Please change the shape of y to (n_samples, ), for example using ravel().\n",
      "  y = column_or_1d(y, warn=True)\n",
      "/Users/ke/opt/anaconda3/lib/python3.9/site-packages/sklearn/utils/validation.py:993: DataConversionWarning: A column-vector y was passed when a 1d array was expected. Please change the shape of y to (n_samples, ), for example using ravel().\n",
      "  y = column_or_1d(y, warn=True)\n",
      "/Users/ke/opt/anaconda3/lib/python3.9/site-packages/sklearn/utils/validation.py:993: DataConversionWarning: A column-vector y was passed when a 1d array was expected. Please change the shape of y to (n_samples, ), for example using ravel().\n",
      "  y = column_or_1d(y, warn=True)\n",
      "/Users/ke/opt/anaconda3/lib/python3.9/site-packages/sklearn/utils/validation.py:993: DataConversionWarning: A column-vector y was passed when a 1d array was expected. Please change the shape of y to (n_samples, ), for example using ravel().\n",
      "  y = column_or_1d(y, warn=True)\n",
      "/Users/ke/opt/anaconda3/lib/python3.9/site-packages/sklearn/utils/validation.py:993: DataConversionWarning: A column-vector y was passed when a 1d array was expected. Please change the shape of y to (n_samples, ), for example using ravel().\n",
      "  y = column_or_1d(y, warn=True)\n",
      "/Users/ke/opt/anaconda3/lib/python3.9/site-packages/sklearn/utils/validation.py:993: DataConversionWarning: A column-vector y was passed when a 1d array was expected. Please change the shape of y to (n_samples, ), for example using ravel().\n",
      "  y = column_or_1d(y, warn=True)\n",
      "/Users/ke/opt/anaconda3/lib/python3.9/site-packages/sklearn/utils/validation.py:993: DataConversionWarning: A column-vector y was passed when a 1d array was expected. Please change the shape of y to (n_samples, ), for example using ravel().\n",
      "  y = column_or_1d(y, warn=True)\n",
      "/Users/ke/opt/anaconda3/lib/python3.9/site-packages/sklearn/utils/validation.py:993: DataConversionWarning: A column-vector y was passed when a 1d array was expected. Please change the shape of y to (n_samples, ), for example using ravel().\n",
      "  y = column_or_1d(y, warn=True)\n",
      "/Users/ke/opt/anaconda3/lib/python3.9/site-packages/sklearn/utils/validation.py:993: DataConversionWarning: A column-vector y was passed when a 1d array was expected. Please change the shape of y to (n_samples, ), for example using ravel().\n",
      "  y = column_or_1d(y, warn=True)\n",
      "/Users/ke/opt/anaconda3/lib/python3.9/site-packages/sklearn/utils/validation.py:993: DataConversionWarning: A column-vector y was passed when a 1d array was expected. Please change the shape of y to (n_samples, ), for example using ravel().\n",
      "  y = column_or_1d(y, warn=True)\n",
      "/Users/ke/opt/anaconda3/lib/python3.9/site-packages/sklearn/utils/validation.py:993: DataConversionWarning: A column-vector y was passed when a 1d array was expected. Please change the shape of y to (n_samples, ), for example using ravel().\n",
      "  y = column_or_1d(y, warn=True)\n",
      "/Users/ke/opt/anaconda3/lib/python3.9/site-packages/sklearn/utils/validation.py:993: DataConversionWarning: A column-vector y was passed when a 1d array was expected. Please change the shape of y to (n_samples, ), for example using ravel().\n",
      "  y = column_or_1d(y, warn=True)\n"
     ]
    },
    {
     "name": "stderr",
     "output_type": "stream",
     "text": [
      "/Users/ke/opt/anaconda3/lib/python3.9/site-packages/sklearn/utils/validation.py:993: DataConversionWarning: A column-vector y was passed when a 1d array was expected. Please change the shape of y to (n_samples, ), for example using ravel().\n",
      "  y = column_or_1d(y, warn=True)\n",
      "/Users/ke/opt/anaconda3/lib/python3.9/site-packages/sklearn/utils/validation.py:993: DataConversionWarning: A column-vector y was passed when a 1d array was expected. Please change the shape of y to (n_samples, ), for example using ravel().\n",
      "  y = column_or_1d(y, warn=True)\n",
      "/Users/ke/opt/anaconda3/lib/python3.9/site-packages/sklearn/utils/validation.py:993: DataConversionWarning: A column-vector y was passed when a 1d array was expected. Please change the shape of y to (n_samples, ), for example using ravel().\n",
      "  y = column_or_1d(y, warn=True)\n",
      "/Users/ke/opt/anaconda3/lib/python3.9/site-packages/sklearn/utils/validation.py:993: DataConversionWarning: A column-vector y was passed when a 1d array was expected. Please change the shape of y to (n_samples, ), for example using ravel().\n",
      "  y = column_or_1d(y, warn=True)\n",
      "/Users/ke/opt/anaconda3/lib/python3.9/site-packages/sklearn/utils/validation.py:993: DataConversionWarning: A column-vector y was passed when a 1d array was expected. Please change the shape of y to (n_samples, ), for example using ravel().\n",
      "  y = column_or_1d(y, warn=True)\n",
      "/Users/ke/opt/anaconda3/lib/python3.9/site-packages/sklearn/utils/validation.py:993: DataConversionWarning: A column-vector y was passed when a 1d array was expected. Please change the shape of y to (n_samples, ), for example using ravel().\n",
      "  y = column_or_1d(y, warn=True)\n",
      "/Users/ke/opt/anaconda3/lib/python3.9/site-packages/sklearn/utils/validation.py:993: DataConversionWarning: A column-vector y was passed when a 1d array was expected. Please change the shape of y to (n_samples, ), for example using ravel().\n",
      "  y = column_or_1d(y, warn=True)\n",
      "/Users/ke/opt/anaconda3/lib/python3.9/site-packages/sklearn/utils/validation.py:993: DataConversionWarning: A column-vector y was passed when a 1d array was expected. Please change the shape of y to (n_samples, ), for example using ravel().\n",
      "  y = column_or_1d(y, warn=True)\n",
      "/Users/ke/opt/anaconda3/lib/python3.9/site-packages/sklearn/utils/validation.py:993: DataConversionWarning: A column-vector y was passed when a 1d array was expected. Please change the shape of y to (n_samples, ), for example using ravel().\n",
      "  y = column_or_1d(y, warn=True)\n",
      "/Users/ke/opt/anaconda3/lib/python3.9/site-packages/sklearn/utils/validation.py:993: DataConversionWarning: A column-vector y was passed when a 1d array was expected. Please change the shape of y to (n_samples, ), for example using ravel().\n",
      "  y = column_or_1d(y, warn=True)\n",
      "/Users/ke/opt/anaconda3/lib/python3.9/site-packages/sklearn/utils/validation.py:993: DataConversionWarning: A column-vector y was passed when a 1d array was expected. Please change the shape of y to (n_samples, ), for example using ravel().\n",
      "  y = column_or_1d(y, warn=True)\n",
      "/Users/ke/opt/anaconda3/lib/python3.9/site-packages/sklearn/utils/validation.py:993: DataConversionWarning: A column-vector y was passed when a 1d array was expected. Please change the shape of y to (n_samples, ), for example using ravel().\n",
      "  y = column_or_1d(y, warn=True)\n",
      "/Users/ke/opt/anaconda3/lib/python3.9/site-packages/sklearn/utils/validation.py:993: DataConversionWarning: A column-vector y was passed when a 1d array was expected. Please change the shape of y to (n_samples, ), for example using ravel().\n",
      "  y = column_or_1d(y, warn=True)\n",
      "/Users/ke/opt/anaconda3/lib/python3.9/site-packages/sklearn/utils/validation.py:993: DataConversionWarning: A column-vector y was passed when a 1d array was expected. Please change the shape of y to (n_samples, ), for example using ravel().\n",
      "  y = column_or_1d(y, warn=True)\n",
      "/Users/ke/opt/anaconda3/lib/python3.9/site-packages/sklearn/utils/validation.py:993: DataConversionWarning: A column-vector y was passed when a 1d array was expected. Please change the shape of y to (n_samples, ), for example using ravel().\n",
      "  y = column_or_1d(y, warn=True)\n",
      "/Users/ke/opt/anaconda3/lib/python3.9/site-packages/sklearn/utils/validation.py:993: DataConversionWarning: A column-vector y was passed when a 1d array was expected. Please change the shape of y to (n_samples, ), for example using ravel().\n",
      "  y = column_or_1d(y, warn=True)\n",
      "/Users/ke/opt/anaconda3/lib/python3.9/site-packages/sklearn/utils/validation.py:993: DataConversionWarning: A column-vector y was passed when a 1d array was expected. Please change the shape of y to (n_samples, ), for example using ravel().\n",
      "  y = column_or_1d(y, warn=True)\n",
      "/Users/ke/opt/anaconda3/lib/python3.9/site-packages/sklearn/utils/validation.py:993: DataConversionWarning: A column-vector y was passed when a 1d array was expected. Please change the shape of y to (n_samples, ), for example using ravel().\n",
      "  y = column_or_1d(y, warn=True)\n",
      "/Users/ke/opt/anaconda3/lib/python3.9/site-packages/sklearn/utils/validation.py:993: DataConversionWarning: A column-vector y was passed when a 1d array was expected. Please change the shape of y to (n_samples, ), for example using ravel().\n",
      "  y = column_or_1d(y, warn=True)\n",
      "/Users/ke/opt/anaconda3/lib/python3.9/site-packages/sklearn/utils/validation.py:993: DataConversionWarning: A column-vector y was passed when a 1d array was expected. Please change the shape of y to (n_samples, ), for example using ravel().\n",
      "  y = column_or_1d(y, warn=True)\n",
      "/Users/ke/opt/anaconda3/lib/python3.9/site-packages/sklearn/utils/validation.py:993: DataConversionWarning: A column-vector y was passed when a 1d array was expected. Please change the shape of y to (n_samples, ), for example using ravel().\n",
      "  y = column_or_1d(y, warn=True)\n",
      "/Users/ke/opt/anaconda3/lib/python3.9/site-packages/sklearn/utils/validation.py:993: DataConversionWarning: A column-vector y was passed when a 1d array was expected. Please change the shape of y to (n_samples, ), for example using ravel().\n",
      "  y = column_or_1d(y, warn=True)\n",
      "/Users/ke/opt/anaconda3/lib/python3.9/site-packages/sklearn/utils/validation.py:993: DataConversionWarning: A column-vector y was passed when a 1d array was expected. Please change the shape of y to (n_samples, ), for example using ravel().\n",
      "  y = column_or_1d(y, warn=True)\n",
      "/Users/ke/opt/anaconda3/lib/python3.9/site-packages/sklearn/utils/validation.py:993: DataConversionWarning: A column-vector y was passed when a 1d array was expected. Please change the shape of y to (n_samples, ), for example using ravel().\n",
      "  y = column_or_1d(y, warn=True)\n",
      "/Users/ke/opt/anaconda3/lib/python3.9/site-packages/sklearn/utils/validation.py:993: DataConversionWarning: A column-vector y was passed when a 1d array was expected. Please change the shape of y to (n_samples, ), for example using ravel().\n",
      "  y = column_or_1d(y, warn=True)\n",
      "/Users/ke/opt/anaconda3/lib/python3.9/site-packages/sklearn/utils/validation.py:993: DataConversionWarning: A column-vector y was passed when a 1d array was expected. Please change the shape of y to (n_samples, ), for example using ravel().\n",
      "  y = column_or_1d(y, warn=True)\n",
      "/Users/ke/opt/anaconda3/lib/python3.9/site-packages/sklearn/utils/validation.py:993: DataConversionWarning: A column-vector y was passed when a 1d array was expected. Please change the shape of y to (n_samples, ), for example using ravel().\n",
      "  y = column_or_1d(y, warn=True)\n",
      "/Users/ke/opt/anaconda3/lib/python3.9/site-packages/sklearn/utils/validation.py:993: DataConversionWarning: A column-vector y was passed when a 1d array was expected. Please change the shape of y to (n_samples, ), for example using ravel().\n",
      "  y = column_or_1d(y, warn=True)\n",
      "/Users/ke/opt/anaconda3/lib/python3.9/site-packages/sklearn/utils/validation.py:993: DataConversionWarning: A column-vector y was passed when a 1d array was expected. Please change the shape of y to (n_samples, ), for example using ravel().\n",
      "  y = column_or_1d(y, warn=True)\n",
      "/Users/ke/opt/anaconda3/lib/python3.9/site-packages/sklearn/utils/validation.py:993: DataConversionWarning: A column-vector y was passed when a 1d array was expected. Please change the shape of y to (n_samples, ), for example using ravel().\n",
      "  y = column_or_1d(y, warn=True)\n",
      "/Users/ke/opt/anaconda3/lib/python3.9/site-packages/sklearn/utils/validation.py:993: DataConversionWarning: A column-vector y was passed when a 1d array was expected. Please change the shape of y to (n_samples, ), for example using ravel().\n",
      "  y = column_or_1d(y, warn=True)\n",
      "/Users/ke/opt/anaconda3/lib/python3.9/site-packages/sklearn/utils/validation.py:993: DataConversionWarning: A column-vector y was passed when a 1d array was expected. Please change the shape of y to (n_samples, ), for example using ravel().\n",
      "  y = column_or_1d(y, warn=True)\n",
      "/Users/ke/opt/anaconda3/lib/python3.9/site-packages/sklearn/utils/validation.py:993: DataConversionWarning: A column-vector y was passed when a 1d array was expected. Please change the shape of y to (n_samples, ), for example using ravel().\n",
      "  y = column_or_1d(y, warn=True)\n"
     ]
    },
    {
     "name": "stderr",
     "output_type": "stream",
     "text": [
      "/Users/ke/opt/anaconda3/lib/python3.9/site-packages/sklearn/utils/validation.py:993: DataConversionWarning: A column-vector y was passed when a 1d array was expected. Please change the shape of y to (n_samples, ), for example using ravel().\n",
      "  y = column_or_1d(y, warn=True)\n",
      "/Users/ke/opt/anaconda3/lib/python3.9/site-packages/sklearn/utils/validation.py:993: DataConversionWarning: A column-vector y was passed when a 1d array was expected. Please change the shape of y to (n_samples, ), for example using ravel().\n",
      "  y = column_or_1d(y, warn=True)\n",
      "/Users/ke/opt/anaconda3/lib/python3.9/site-packages/sklearn/utils/validation.py:993: DataConversionWarning: A column-vector y was passed when a 1d array was expected. Please change the shape of y to (n_samples, ), for example using ravel().\n",
      "  y = column_or_1d(y, warn=True)\n",
      "/Users/ke/opt/anaconda3/lib/python3.9/site-packages/sklearn/utils/validation.py:993: DataConversionWarning: A column-vector y was passed when a 1d array was expected. Please change the shape of y to (n_samples, ), for example using ravel().\n",
      "  y = column_or_1d(y, warn=True)\n",
      "/Users/ke/opt/anaconda3/lib/python3.9/site-packages/sklearn/utils/validation.py:993: DataConversionWarning: A column-vector y was passed when a 1d array was expected. Please change the shape of y to (n_samples, ), for example using ravel().\n",
      "  y = column_or_1d(y, warn=True)\n",
      "/Users/ke/opt/anaconda3/lib/python3.9/site-packages/sklearn/utils/validation.py:993: DataConversionWarning: A column-vector y was passed when a 1d array was expected. Please change the shape of y to (n_samples, ), for example using ravel().\n",
      "  y = column_or_1d(y, warn=True)\n",
      "/Users/ke/opt/anaconda3/lib/python3.9/site-packages/sklearn/utils/validation.py:993: DataConversionWarning: A column-vector y was passed when a 1d array was expected. Please change the shape of y to (n_samples, ), for example using ravel().\n",
      "  y = column_or_1d(y, warn=True)\n",
      "/Users/ke/opt/anaconda3/lib/python3.9/site-packages/sklearn/utils/validation.py:993: DataConversionWarning: A column-vector y was passed when a 1d array was expected. Please change the shape of y to (n_samples, ), for example using ravel().\n",
      "  y = column_or_1d(y, warn=True)\n",
      "/Users/ke/opt/anaconda3/lib/python3.9/site-packages/sklearn/utils/validation.py:993: DataConversionWarning: A column-vector y was passed when a 1d array was expected. Please change the shape of y to (n_samples, ), for example using ravel().\n",
      "  y = column_or_1d(y, warn=True)\n",
      "/Users/ke/opt/anaconda3/lib/python3.9/site-packages/sklearn/utils/validation.py:993: DataConversionWarning: A column-vector y was passed when a 1d array was expected. Please change the shape of y to (n_samples, ), for example using ravel().\n",
      "  y = column_or_1d(y, warn=True)\n",
      "/Users/ke/opt/anaconda3/lib/python3.9/site-packages/sklearn/utils/validation.py:993: DataConversionWarning: A column-vector y was passed when a 1d array was expected. Please change the shape of y to (n_samples, ), for example using ravel().\n",
      "  y = column_or_1d(y, warn=True)\n",
      "/Users/ke/opt/anaconda3/lib/python3.9/site-packages/sklearn/utils/validation.py:993: DataConversionWarning: A column-vector y was passed when a 1d array was expected. Please change the shape of y to (n_samples, ), for example using ravel().\n",
      "  y = column_or_1d(y, warn=True)\n",
      "/Users/ke/opt/anaconda3/lib/python3.9/site-packages/sklearn/utils/validation.py:993: DataConversionWarning: A column-vector y was passed when a 1d array was expected. Please change the shape of y to (n_samples, ), for example using ravel().\n",
      "  y = column_or_1d(y, warn=True)\n",
      "/Users/ke/opt/anaconda3/lib/python3.9/site-packages/sklearn/utils/validation.py:993: DataConversionWarning: A column-vector y was passed when a 1d array was expected. Please change the shape of y to (n_samples, ), for example using ravel().\n",
      "  y = column_or_1d(y, warn=True)\n",
      "/Users/ke/opt/anaconda3/lib/python3.9/site-packages/sklearn/utils/validation.py:993: DataConversionWarning: A column-vector y was passed when a 1d array was expected. Please change the shape of y to (n_samples, ), for example using ravel().\n",
      "  y = column_or_1d(y, warn=True)\n",
      "/Users/ke/opt/anaconda3/lib/python3.9/site-packages/sklearn/utils/validation.py:993: DataConversionWarning: A column-vector y was passed when a 1d array was expected. Please change the shape of y to (n_samples, ), for example using ravel().\n",
      "  y = column_or_1d(y, warn=True)\n",
      "/Users/ke/opt/anaconda3/lib/python3.9/site-packages/sklearn/utils/validation.py:993: DataConversionWarning: A column-vector y was passed when a 1d array was expected. Please change the shape of y to (n_samples, ), for example using ravel().\n",
      "  y = column_or_1d(y, warn=True)\n",
      "/Users/ke/opt/anaconda3/lib/python3.9/site-packages/sklearn/utils/validation.py:993: DataConversionWarning: A column-vector y was passed when a 1d array was expected. Please change the shape of y to (n_samples, ), for example using ravel().\n",
      "  y = column_or_1d(y, warn=True)\n",
      "/Users/ke/opt/anaconda3/lib/python3.9/site-packages/sklearn/utils/validation.py:993: DataConversionWarning: A column-vector y was passed when a 1d array was expected. Please change the shape of y to (n_samples, ), for example using ravel().\n",
      "  y = column_or_1d(y, warn=True)\n",
      "/Users/ke/opt/anaconda3/lib/python3.9/site-packages/sklearn/utils/validation.py:993: DataConversionWarning: A column-vector y was passed when a 1d array was expected. Please change the shape of y to (n_samples, ), for example using ravel().\n",
      "  y = column_or_1d(y, warn=True)\n",
      "/Users/ke/opt/anaconda3/lib/python3.9/site-packages/sklearn/utils/validation.py:993: DataConversionWarning: A column-vector y was passed when a 1d array was expected. Please change the shape of y to (n_samples, ), for example using ravel().\n",
      "  y = column_or_1d(y, warn=True)\n",
      "/Users/ke/opt/anaconda3/lib/python3.9/site-packages/sklearn/utils/validation.py:993: DataConversionWarning: A column-vector y was passed when a 1d array was expected. Please change the shape of y to (n_samples, ), for example using ravel().\n",
      "  y = column_or_1d(y, warn=True)\n",
      "/Users/ke/opt/anaconda3/lib/python3.9/site-packages/sklearn/utils/validation.py:993: DataConversionWarning: A column-vector y was passed when a 1d array was expected. Please change the shape of y to (n_samples, ), for example using ravel().\n",
      "  y = column_or_1d(y, warn=True)\n",
      "/Users/ke/opt/anaconda3/lib/python3.9/site-packages/sklearn/utils/validation.py:993: DataConversionWarning: A column-vector y was passed when a 1d array was expected. Please change the shape of y to (n_samples, ), for example using ravel().\n",
      "  y = column_or_1d(y, warn=True)\n",
      "/Users/ke/opt/anaconda3/lib/python3.9/site-packages/sklearn/utils/validation.py:993: DataConversionWarning: A column-vector y was passed when a 1d array was expected. Please change the shape of y to (n_samples, ), for example using ravel().\n",
      "  y = column_or_1d(y, warn=True)\n",
      "/Users/ke/opt/anaconda3/lib/python3.9/site-packages/sklearn/utils/validation.py:993: DataConversionWarning: A column-vector y was passed when a 1d array was expected. Please change the shape of y to (n_samples, ), for example using ravel().\n",
      "  y = column_or_1d(y, warn=True)\n",
      "/Users/ke/opt/anaconda3/lib/python3.9/site-packages/sklearn/utils/validation.py:993: DataConversionWarning: A column-vector y was passed when a 1d array was expected. Please change the shape of y to (n_samples, ), for example using ravel().\n",
      "  y = column_or_1d(y, warn=True)\n",
      "/Users/ke/opt/anaconda3/lib/python3.9/site-packages/sklearn/utils/validation.py:993: DataConversionWarning: A column-vector y was passed when a 1d array was expected. Please change the shape of y to (n_samples, ), for example using ravel().\n",
      "  y = column_or_1d(y, warn=True)\n",
      "/Users/ke/opt/anaconda3/lib/python3.9/site-packages/sklearn/utils/validation.py:993: DataConversionWarning: A column-vector y was passed when a 1d array was expected. Please change the shape of y to (n_samples, ), for example using ravel().\n",
      "  y = column_or_1d(y, warn=True)\n",
      "/Users/ke/opt/anaconda3/lib/python3.9/site-packages/sklearn/utils/validation.py:993: DataConversionWarning: A column-vector y was passed when a 1d array was expected. Please change the shape of y to (n_samples, ), for example using ravel().\n",
      "  y = column_or_1d(y, warn=True)\n"
     ]
    },
    {
     "name": "stderr",
     "output_type": "stream",
     "text": [
      "/Users/ke/opt/anaconda3/lib/python3.9/site-packages/sklearn/utils/validation.py:993: DataConversionWarning: A column-vector y was passed when a 1d array was expected. Please change the shape of y to (n_samples, ), for example using ravel().\n",
      "  y = column_or_1d(y, warn=True)\n"
     ]
    },
    {
     "name": "stdout",
     "output_type": "stream",
     "text": [
      "Linear_SVR:  {'C': 1, 'gamma': 1e-21}\n"
     ]
    }
   ],
   "source": [
    "param_grid = {'gamma':   [1e-21, 1e-13, 1e-11, 1e-9, 1e-7], 'C':   [0.05, 0.10, 0.15, 1, 10]}\n",
    "linear_svr_cg = GridSearchCV(SVC(kernel = \"linear\"), param_grid, cv = 5,n_jobs = -1,verbose = 1)\n",
    "linear_svr_cg.fit(data, label)\n",
    "print(\"Linear_SVR: \", linear_svr_cg.best_params_)"
   ]
  },
  {
   "cell_type": "markdown",
   "id": "6a3c6ffe",
   "metadata": {},
   "source": [
    "### Step 6: Predict and Data Correction\n",
    "According to step 2, we observed some properties of label distribution, based on those properties I chose to do some data correction to improve the prediction result."
   ]
  },
  {
   "cell_type": "code",
   "execution_count": 108,
   "id": "c343a018",
   "metadata": {},
   "outputs": [
    {
     "name": "stdout",
     "output_type": "stream",
     "text": [
      "Start training svc\n"
     ]
    },
    {
     "name": "stderr",
     "output_type": "stream",
     "text": [
      "/Users/ke/opt/anaconda3/lib/python3.9/site-packages/sklearn/utils/validation.py:993: DataConversionWarning: A column-vector y was passed when a 1d array was expected. Please change the shape of y to (n_samples, ), for example using ravel().\n",
      "  y = column_or_1d(y, warn=True)\n"
     ]
    },
    {
     "name": "stdout",
     "output_type": "stream",
     "text": [
      "Trainig done\n",
      "Prediction done\n"
     ]
    }
   ],
   "source": [
    "print(\"Start training svc\")\n",
    "svc = SVC(kernel = \"linear\", C = 1).fit(data, label)\n",
    "print(\"Trainig done\")\n",
    "answer_svc = svc.predict(test_data)\n",
    "for i in range(2, len(answer_svc) - 2):\n",
    "    if(answer_svc[i] != answer_svc[i-1] and answer_svc[i] == 4):\n",
    "        if(answer_svc[i-1] == answer_svc[i+1] == 5):\n",
    "            answer_svc[i] = 5\n",
    "        elif(answer_svc[i-1] == 2 and answer_svc[i+1] == answer_svc[i+2] == 5):\n",
    "            answer_svc[i] = 5\n",
    "        elif(answer_svc[i-1] == answer_svc[i+2] == 5):\n",
    "            answer_svc[i] = 5\n",
    "    elif(answer_svc[i] != answer_svc[i-1] and answer_svc[i] == 5):\n",
    "        if(answer_svc[i-1] == answer_svc[i+1] == 4):\n",
    "            answer_svc[i] = 4\n",
    "        elif(answer_svc[i-1] == answer_svc[i+2] == 4):\n",
    "            answer_svc[i] = 4\n",
    "        elif(answer_svc[i-1] == answer_svc[i-2] == 4 and answer_svc[i+2] == 7):\n",
    "            answer_svc[i] = 4\n",
    "        elif(answer_svc[i-1] == 4 and answer_svc[i+1] ==7):\n",
    "            answer_svc[i] = 4\n",
    "    elif(answer_svc[i] == 1 and answer_svc[i] != answer_svc[i-1]):\n",
    "        if(answer_svc[i-1] == answer_svc[i+1] == 2 or answer_svc[i-1] == answer_svc[i+1] == 3):\n",
    "            answer_svc[i] = answer_svc[i-1]\n",
    "        elif(answer_svc[i-1] == answer_svc[i+2] == 2):\n",
    "            answer_svc[i] = 2\n",
    "    elif(answer_svc[i] == 3 and answer_svc[i] != answer_svc[i-1]):\n",
    "        if(answer_svc[i-1] == answer_svc[i+2] == 1):\n",
    "            answer_svc[i] = 1\n",
    "        elif(answer_svc[i-1] == answer_svc[i+2] == 2):\n",
    "            answer_svc[i] = 2\n",
    "    elif(answer_svc[i] == 2 and answer_svc[i] != answer_svc[i-1]):\n",
    "        if(answer_svc[i-1] == answer_svc[i+1] == 1 or answer_svc[i-1] == answer_svc[i+1] == 3):\n",
    "            answer_svc[i] = answer_svc[i-1]\n",
    "print(\"Prediction done\")\n",
    "# new = pd.DataFrame(answer_svc.T)\n",
    "# new.to_excel(\"/Users/ke/Desktop/UMICH/23 Winter/BIOSTAT 626/Midterm 1/multi_svc_result_new.xlsx\")"
   ]
  }
 ],
 "metadata": {
  "kernelspec": {
   "display_name": "Python 3 (ipykernel)",
   "language": "python",
   "name": "python3"
  },
  "language_info": {
   "codemirror_mode": {
    "name": "ipython",
    "version": 3
   },
   "file_extension": ".py",
   "mimetype": "text/x-python",
   "name": "python",
   "nbconvert_exporter": "python",
   "pygments_lexer": "ipython3",
   "version": "3.9.12"
  }
 },
 "nbformat": 4,
 "nbformat_minor": 5
}
